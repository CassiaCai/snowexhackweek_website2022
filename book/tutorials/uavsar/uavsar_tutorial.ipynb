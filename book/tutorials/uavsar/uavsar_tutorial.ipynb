{
 "cells": [
  {
   "cell_type": "markdown",
   "metadata": {},
   "source": [
    "# UAVSAR\n",
    "\n",
    ":::{figure-md} sthelens\n",
    "<img src=\"../../img/uavsar/sthelens.jpeg\" alt=\"uavsar scene\" width=\"800px\">\n",
    "\n",
    "Uavsar polarimetry imagery of Mt. St Helens. Source: Jones et al. 2008\n",
    ":::\n",
    "\n",
    "```{admonition} Learning Objectives\n",
    "**Learning Objectives**\n",
    "- What is UAVSAR?\n",
    "- Why would I use UAVSAR?\n",
    "- How can I access UAVSAR imagery?\n",
    "- What are the UAVSAR data products?\n",
    "- UAVSAR Snow water equivalent inversion\n",
    "```\n",
    "\n",
    "*Developers: \\\n",
    "Jack Tarricone, University of Nevada, Reno \\\n",
    "Zach Keskinen, Boise State University*\n",
    "\n",
    "*Other contributors: \\\n",
    "Ross Palomaki, Montana State University\\\n",
    "Naheem Adebisi, Boise State University*"
   ]
  },
  {
   "cell_type": "markdown",
   "metadata": {},
   "source": [
    "## What is UAVSAR?\n",
    "\n",
    "[UAVSAR](https://uavsar.jpl.nasa.gov/education/what-is-uavsar.html) is a low frequency plane-based synthetic aperature radar. UAVSAR stands for \"Uninhabited Aerial Vehicle Synthetic Aperature Radar\". It captures imagery using a L-band radar. This low frequency means it can penetrate into and through clouds, vegetation, and snow.\n",
    "\n",
    "| frequency (cm) | resolution (rng x azi m) | Swath Width (km) | Polarizations | Launch date |\n",
    "| - | - | - | - | - |\n",
    "| L-band 23| 1.8 x 5.5 | 16 | VV, VH, HV, HH | 2007 |"
   ]
  },
  {
   "cell_type": "markdown",
   "metadata": {},
   "source": [
    "### NASA SnowEx 2020 and 2021 UAVSAR Campaings\n",
    "\n",
    "During the winter of 2020 and 2021, NASA conducted an L-band InSAR timeseries across the Western US with the goal of tracking changes in SWE. Field teams in 13 different locations in 2020, and in 6 locations in 2021, deployed on the date of the flight to perform calibration and validation observations.\n",
    "\n",
    ":::{figure-md} UAVSAR-map\n",
    "<img src=\"../../img/SnowEx_map.jpg\" alt=\"uavsar map\" width=\"800px\">\n",
    "\n",
    "Map of the UAVSAR flight locations for NASA SnowEx. Note that the Montana site (Central Agricultral Research Center) is not on this map. Source: Chris Hiemstra\n",
    ":::\n",
    "\n",
    "---\n",
    "\n",
    "The site locations from the above map along with the [Uavsar defined campaign name](https://api.daac.asf.alaska.edu/services/utils/mission_list) and currently processed pairs of InSAR images for each site. Note that the image pair count may contain multiple versions of the same image and may increase as more pairs of images are processed by JPL. Also note that the Lowman campaign name is the wrong state when searching.\n",
    "\n",
    "| Site Location | Campaign Name | Image Pairs |\n",
    "| - | - | - |\n",
    "| Grand Mesa | Grand Mesa, CO | 13 |\n",
    "| Boise River Basin | Lowman, CO | 17 |\n",
    "| Frazier Experimental Forest | Fraser, CO | 16 |\n",
    "| Senator Beck Basin | Ironton, CO | 9 |\n",
    "| East River | Peeler Peak, CO | 4 |\n",
    "| Cameron Pass | Rocky Mountains NP, CO | 15 |\n",
    "| Reynold Creek | Silver City, ID | 1 |\n",
    "| Central Agricultral Research Center | Utica, MT | 2 |\n",
    "| Little Cottonwoody Canyon | Salt Lake City, UT | 21 |\n",
    "| Jemez River | Los Alamos, NM | 3 |\n",
    "| American River Basin | Eldorado National Forest, CA | 4 |\n",
    "| Sagehen Creek | Donner Memorial State Park, CA | 4 |\n",
    "| Lakes Basin | Sierra National Forest, CA | 3 |"
   ]
  },
  {
   "cell_type": "markdown",
   "metadata": {},
   "source": [
    "## Why would I use Uavsar for snow?"
   ]
  },
  {
   "cell_type": "markdown",
   "metadata": {},
   "source": [
    "L-band radar imagery penetrates through the snowpack. However when it crosses into the snowpack from the air it refracts at an angle, similar to light entering water. This refraction leads to a phase shift relative to an image with no or less snow. Using this difference in phase between two images we can calculate the change in snow height between flights using:\n",
    "\n",
    "$$\n",
    "\\Delta d = - \\frac{\\Delta \\phi \\lambda}{4 \\pi} \\frac{1}{\\cos^{ } \\alpha - \\sqrt{\\epsilon_{s} - \\sin^{2} \\alpha}}\n",
    "$$\n",
    "\n",
    "Where $\\Delta$ d is the change in snow height, $\\Delta \\phi$ is the phase shift between two SAR images, $\\lambda$ is the energy wavelength, $\\alpha$ is the incidence angle, and $\\epsilon_{s}$ is the dielectric constant of snow which is dependent on the density and liquid water content."
   ]
  },
  {
   "cell_type": "markdown",
   "metadata": {},
   "source": [
    ":::{figure-md} conceptualfigure\n",
    "<img src=\"../../img/uavsar/conceptual.png\" style=\"background-color:white;\" alt=\"conceptual_fig\">\n",
    "\n",
    "Conceptual diagram of radar refraction across the air-snow interface.\n",
    ":::\n",
    "\n"
   ]
  },
  {
   "cell_type": "markdown",
   "metadata": {},
   "source": [
    "### Uavsar Data Products\n",
    "\n",
    "Uavsar has a variety of different type of images:\n",
    "\n",
    "[Repeat Pass Interferometric](https://uavsar.jpl.nasa.gov/science/documents/rpi-format.html) images contain:\n",
    "```{admonition} InSAR Data Types\n",
    ":class: InSAR Data Types\n",
    "- ANN file (.ann): a text annotation file with metadata\n",
    "- AMP files (.amp1 and .amp2): amplitude products for flight 1 and flight 2\n",
    "- COR files (.cor): coherence a measure of the noise level of the phase\n",
    "- INT files (.int): wrapped phase difference between the two images\n",
    "- UNW files (.unw): unwrapped phase difference between the two images\n",
    "- INC files (.inc): incidence angle in radians\n",
    "- HGT file  (.hgt): the DEM that was used in the InSAR processing\n",
    "```\n",
    "\n",
    "[Polarimetric PolSAR](https://uavsar.jpl.nasa.gov/science/documents/polsar-format.html) images contain:\n",
    "- ANN file (.ann): a text annotation file with metadata\n",
    "- The rest of files are all of the format XXYY, and are the phase difference between polarization XX and polarization YY. For instance HHHV is the phase difference between HH and HV polarizations.\n",
    "\n",
    "Finally all images can be in radar slant range or projected into WGS84. Images that have already been projected to ground range will have the extension .grd appended to their file type extension. \n",
    "\n",
    "For instance a image of unwrapped phase that has not been georefenced would end with .unw, while one that was georeferenced would end with .unw.grd. You will generally want to use .grd files.\n",
    "- GRD files (.grd): products projected to the ground in geographic coordinates (latitude, longitude)\n"
   ]
  },
  {
   "cell_type": "markdown",
   "metadata": {},
   "source": [
    "## Accessing Uavsar Images\n",
    "\n",
    "Uavsar imagery can be downloaded from both the [JPL](https://uavsar.jpl.nasa.gov/cgi-bin/data.pl) and [Alaska Satellite Facility](https://search.asf.alaska.edu/#/?dataset=UAVSAR). However both provide the imagery in a binary format that is not readily usable or readable by GIS software or python libraries. \n",
    "\n",
    "[Uavsar_pytools]((https://github.com/SnowEx/uavsar_pytools)) is a python package that handles the downloading and conversion of Uavsar images to georeferenced GeoTiffs. It can download and convert either individual images - `UavsarScene` or entire collections of images - `UavsarCollection`."
   ]
  },
  {
   "cell_type": "markdown",
   "metadata": {},
   "source": [
    "### Netrc Authorization\n",
    "\n",
    "In order to download uavsar images you will need a [netrc file](https://www.gnu.org/software/inetutils/manual/html_node/The-_002enetrc-file.html) that contains your earthdata username and password. If you need to register for a NASA earthdata account use this [link](https://urs.earthdata.nasa.gov/). A netrc file is a hidden file, it won't appear in the your file explorer, that is in your home directory and that programs can access to get the appropriate usernames and passwords. While you won't need to use this for this demonstration uavsar_pytools has a tool to create this netrc file on a local computer. You only need to create this file once and then it should be permanently stored on your computer."
   ]
  },
  {
   "cell_type": "code",
   "execution_count": null,
   "metadata": {},
   "outputs": [],
   "source": [
    "# ## Creating .netrc file with Earthdata login information\n",
    "# from uavsar_pytools.uavsar_tools import create_netrc\n",
    "\n",
    "# # This will prompt you for your username and password and save this\n",
    "# # information into a .netrc file in your home directory. You only need to run\n",
    "# # this command once per computer. Then it will be saved.\n",
    "# create_netrc()"
   ]
  },
  {
   "cell_type": "markdown",
   "metadata": {},
   "source": [
    "### Downloading and converting a single Uavsar interferogram scene\n",
    "\n",
    "You can find urls for Uavsar images at the [ASF vertex website](https://search.asf.alaska.edu/#/?dataset=UAVSAR). Make sure to change the platform to Uavsar and you may also want to filter to  ground projected interferograms.\n",
    "\n",
    ":::{figure-md} vertexexample\n",
    "<img src=\"../../img/uavsar/vertex_example.png\" alt=\"vertex example\" width=\"800px\">\n",
    "\n",
    "Example of getting the uavsar URL from vertex.\n",
    ":::\n"
   ]
  },
  {
   "cell_type": "code",
   "execution_count": null,
   "metadata": {},
   "outputs": [],
   "source": [
    "try:\n",
    "    from uavsar_pytools import UavsarScene\n",
    "except ModuleNotFoundError:\n",
    "    print('Install uavsar_pytools with `pip install uavsar_pytools`')\n",
    "\n",
    "import os\n",
    "from os.path import join, basename, expanduser\n",
    "from glob import glob\n",
    "import numpy as np\n",
    "import pandas as pd\n",
    "import rasterio as rio\n",
    "import rioxarray as rxa\n",
    "from rasterio.plot import show\n",
    "import matplotlib.pyplot as plt\n",
    "from mpl_toolkits.axes_grid1 import make_axes_locatable\n",
    "import contextily as cx\n",
    "\n",
    "## These will replaced by pytools import\n",
    "from snowdepth_inversion import phase_from_depth, depth_from_phase\n",
    "\n",
    "data_dir = '/Users/zachkeskinen/Documents/uavsar_tutorial'"
   ]
  },
  {
   "cell_type": "code",
   "execution_count": null,
   "metadata": {},
   "outputs": [],
   "source": [
    "## This is the directory you want to download and convert the images in.\n",
    "work_dir = '/tmp/uavsar_tutorial'\n",
    "work_dir = expanduser('~/Documents/uavsar_tutorial')\n",
    "\n",
    "## This is a url you want to download. Can be obtained from vertex\n",
    "url = 'https://datapool.asf.alaska.edu/INTERFEROMETRY_GRD/UA/\\\n",
    "lowman_23205_21009-004_21012-000_0007d_s01_L090_01_int_grd.zip'\n",
    "\n",
    "## clean = True will delete the binary and zip files leaving only the tiffs\n",
    "scene = UavsarScene(url = url, work_dir=work_dir, clean= True)\n",
    "\n",
    "## After running url_to_tiffs() you will download the zip file, unzip the binary \n",
    "## files, and convert them to geotiffs in the directory with the scene name in\n",
    "## the work directory. It also generate a .csv pandas dictionary of metadata.\n",
    "scene.url_to_tiffs()"
   ]
  },
  {
   "cell_type": "markdown",
   "metadata": {},
   "source": [
    "### Downloading and converting a full Uavsar collection\n",
    "\n",
    "If you want to download and convert an entire Uavsar collection for a larger analysis you can use `UavsarCollection`. The collection names for the SnowEx campaign are listed in the table in the introduction. The `UavsarCollection` only downloads interferometric image pairs, but will soon be able to select between InSAR pairs and PolSAR images."
   ]
  },
  {
   "cell_type": "code",
   "execution_count": null,
   "metadata": {},
   "outputs": [],
   "source": [
    "from uavsar_pytools import UavsarCollection\n",
    "## Collection name, the SnowEx Collection names are listed above. These are case \n",
    "## and space sensitive.\n",
    "collection_name = 'Grand Mesa, CO'\n",
    "\n",
    "## Directory to save collection into. This will be filled with directory with \n",
    "## scene names and tiffs inside of them.\n",
    "out_dir = '/tmp/collection_ex/'\n",
    "\n",
    "## This is optional, but you will generally want to at least limit the date\n",
    "## range between 2019 and today.\n",
    "date_range = ('2019-11-01', 'today')\n",
    "\n",
    "# Keywords: to download incidence angles with each image use `inc = True`\n",
    "# For only certain pols use `pols = ['VV','HV']`\n",
    "collection = UavsarCollection(collection = collection_name, work_dir = out_dir, dates = date_range)\n",
    "\n",
    "## You can use this to check how many image pairs have at least one image in\n",
    "## the date range.\n",
    "collection.find_urls()\n",
    "\n",
    "## When you are ready to download all the images run:\n",
    "# collection.collection_to_tiffs()\n",
    "## This will take a long time and a lot of space, ~1-5 gB and 10 minutes per \n",
    "## image pair depending on which scene, so run it if you have the space and time."
   ]
  },
  {
   "cell_type": "code",
   "execution_count": null,
   "metadata": {},
   "outputs": [],
   "source": [
    "%%bash \n",
    "\n",
    "# Retrieve a copy of data files used in this tutorial from Zenodo.org:\n",
    "# Re-running this cell will not re-download things if they already exist\n",
    "\n",
    "# mkdir -p /tmp/tutorial-data\n",
    "# cd /tmp/tutorial-data\n",
    "# wget -q -nc -O data.zip https://zenodo.org/record/5504396/files/sar.zip\n",
    "# unzip -q -n data.zip\n",
    "# rm data.zip"
   ]
  },
  {
   "cell_type": "markdown",
   "metadata": {},
   "source": [
    "## Interferometric Images"
   ]
  },
  {
   "cell_type": "code",
   "execution_count": null,
   "metadata": {},
   "outputs": [],
   "source": [
    "snotel_coords = (44.3, -115.233056)\n",
    "\n",
    "f, axes = plt.subplots(1, 2 ,figsize = (16,12))\n",
    "vis_dic = {'cor': 'Blues', 'unw':'magma'}\n",
    "\n",
    "for i, type in enumerate(vis_dic.keys()):\n",
    "    with rio.open(join(data_dir, f'{type}.tif')) as src:\n",
    "        vmin, vmax = np.nanquantile(src.read(1), [0.1, 0.9])\n",
    "        im = show(src, ax = axes[i], vmin = vmin, vmax = vmax, cmap = vis_dic[type], zorder = 1, alpha = 0.9)\n",
    "        cx.add_basemap(axes[i], crs=src.crs, alpha = 0.8, source = cx.providers.USGS.USTopo)\n",
    "    \n",
    "    divider = make_axes_locatable(axes[i])\n",
    "    if i == 0:\n",
    "        cax = divider.append_axes('left', size='2%', pad=0.35)\n",
    "        axes[i].yaxis.set_visible(False)\n",
    "        axes[i].set_title('Coherence at Banner Summit Feb 3rd to 10th, 2020')\n",
    "    else:\n",
    "        cax = divider.append_axes('right', size='2%', pad=0.2)\n",
    "        axes[i].set_title('Unwrapped Phase at Banner Summit Feb 3rd to 10th, 2020')\n",
    "    \n",
    "    axes[i].scatter(snotel_coords[1], snotel_coords[0], s = 70, c = 'black', marker = 'x', linewidths = 4)\n",
    "\n",
    "    f.colorbar(im.get_images()[0], cax=cax, orientation='vertical')\n",
    "    \n",
    "f.tight_layout()"
   ]
  },
  {
   "cell_type": "markdown",
   "metadata": {},
   "source": [
    "### Setting the zero phase point\n",
    "\n",
    "We only have one unknown variable for our unwrapped phase. This is the \"zero phase point\". We will use the snotel (marked with a black x in the map above) to set this zero phase point. We need to extract two variables to calculate the phase change at the snotel site - the snow depth change and the incidence angle."
   ]
  },
  {
   "cell_type": "code",
   "execution_count": null,
   "metadata": {},
   "outputs": [],
   "source": [
    "df = pd.read_csv(join(data_dir, 'banner_snotel_2021.csv'), parse_dates= ['datetime'], index_col = 0)\n",
    "\n",
    "f, ax = plt.subplots(figsize = (12,5))\n",
    "\n",
    "wx_between = df[(df.index > pd.to_datetime('2021-01-27')) & (df.index < pd.to_datetime('2021-02-03'))]\n",
    "wx_between.rolling(3).median().sd.plot()\n",
    "ax.set_ylabel('Snow Depth (m)')\n",
    "ax.xaxis.get_label().set_visible(False)\n",
    "sd_diff = wx_between.iloc[-1, 2] - wx_between.iloc[0, 2]\n",
    "swe_diff = wx_between.iloc[-1, 0] - wx_between.iloc[0, 0]\n",
    "new_density = np.abs(swe_diff/sd_diff*1000)\n",
    "print(f'Snow Depth Change {round(sd_diff, 3)} meters with a new snow density of {round(new_density, 0)} kg /m3')"
   ]
  },
  {
   "cell_type": "code",
   "execution_count": null,
   "metadata": {},
   "outputs": [],
   "source": [
    "inc = rxa.open_rasterio(join(data_dir, '2021-02-03_2021-02-10.inc.tiff'))\n",
    "phase = rxa.open_rasterio(join(data_dir, '2021-02-03_2021-02-10.unw.tiff'))\n",
    "geometry = [{'type': 'Point', 'coordinates': [snotel_coords[1],snotel_coords[0]] }]\n",
    "snotel_inc = float(inc.rio.clip(geometry, inc.rio.crs).mean().data)\n",
    "snotel_phase = float(phase.rio.clip(geometry, phase.rio.crs).mean().data)\n",
    "print(f'Snotel incidence angle {np.rad2deg(snotel_inc)} degrees, current phase: {snotel_phase}')"
   ]
  },
  {
   "cell_type": "code",
   "execution_count": null,
   "metadata": {},
   "outputs": [],
   "source": [
    "sd_corr_phase = phase_from_depth(delta_sd = sd_diff, inc_angle = snotel_inc, density = new_density)\n",
    "phase_correction = sd_corr_phase - snotel_phase\n",
    "phase = phase + phase_correction\n",
    "swe = rxa.open_rasterio(join(data_dir, '2021-02-03_2021-02-10.unw.tiff'))\n",
    "swe.data = depth_from_phase(phase.data[0], inc_angle = inc.data[0], density = new_density).reshape(phase.shape)\n",
    "swe.rio.to_raster(join(data_dir, 'sd.tiff'))"
   ]
  },
  {
   "cell_type": "code",
   "execution_count": null,
   "metadata": {},
   "outputs": [],
   "source": [
    "lidar_sd = rxa.open_rasterio(join(data_dir, 'lidar_snow_depth.tiff'))\n",
    "\n",
    "f, axes = plt.subplots(1, 2 ,figsize = (16,12))\n",
    "\n",
    "vis_dic = {'lidar_snow_depth': 'viridis', 'sd': 'Reds_r'}\n",
    "\n",
    "for i, (name, cmap) in enumerate(vis_dic.items()):\n",
    "    with rio.open(join(data_dir, f'{name}.tiff')) as src:\n",
    "        ax = axes[i]\n",
    "        vmin, vmax = np.nanquantile(src.read(1), [0.1, 0.9])\n",
    "        im = show(src, ax = ax, vmin = vmin, vmax = vmax, cmap = cmap, zorder = 1, alpha = 0.8)\n",
    "        divider = make_axes_locatable(ax)\n",
    "        ax.scatter(snotel_coords[1], snotel_coords[0], s = 70, c = 'black', marker = 'x', linewidths = 4)\n",
    "        cx.add_basemap(ax, crs=src.crs, alpha = 0.8, source = cx.providers.USGS.USTopo)\n",
    "        \n",
    "    if i == 1:\n",
    "        cax = divider.append_axes('right', size='2%', pad=0.35)\n",
    "        ax.set_title('Uavsar Snow Depth Change')\n",
    "\n",
    "    else:\n",
    "        ax.yaxis.set_visible(False)\n",
    "        cax = divider.append_axes('left', size='2%', pad=0.35)\n",
    "        ax.set_title('Lidar February Snow Depth')\n",
    "\n",
    "    f.colorbar(im.get_images()[0], cax=cax, orientation='vertical')\n",
    "    \n",
    "f.tight_layout()"
   ]
  }
 ],
 "metadata": {
  "kernelspec": {
   "display_name": "Python 3.9.12 ('uavsar')",
   "language": "python",
   "name": "python3"
  },
  "language_info": {
   "codemirror_mode": {
    "name": "ipython",
    "version": 3
   },
   "file_extension": ".py",
   "mimetype": "text/x-python",
   "name": "python",
   "nbconvert_exporter": "python",
   "pygments_lexer": "ipython3",
   "version": "3.9.12"
  },
  "vscode": {
   "interpreter": {
    "hash": "ba8967e065a58c806f1bdb735567067b52f77062b6ff6cacc1c3011561bd9c8e"
   }
  }
 },
 "nbformat": 4,
 "nbformat_minor": 2
}
