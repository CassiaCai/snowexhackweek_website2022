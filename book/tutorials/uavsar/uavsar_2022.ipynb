{
 "cells": [
  {
   "cell_type": "markdown",
   "metadata": {},
   "source": [
    "# UAVSAR\n",
    "\n",
    "<img src=\"../../img/uavsar_title_figure.png\" alt=\"uavsar scene\" width=\"800px\">\n",
    "\n",
    "```{admonition} Learning Objectives\n",
    "*A 30 minute guide to UAVSAR data for SnowEX*\n",
    "- What is UAVSAR?\n",
    "- Why would I use UAVSAR?\n",
    "- How can I access UAVSAR imagery?\n",
    "- What are the UAVSAR data products?\n",
    "- UAVSAR Snow water equivalent inversion\n",
    "```\n",
    "\n",
    "*Developers: \\\n",
    "Jack Tarricone, University of Nevada, Reno \\\n",
    "Zach Keskinen, Boise State University*\n",
    "\n",
    "*Other developers: \\\n",
    "Ross Palomaki, Montana State University\\\n",
    "Naheem Adebisi, Boise State University*"
   ]
  },
  {
   "cell_type": "markdown",
   "metadata": {},
   "source": [
    "#### Import Relevant Libraries"
   ]
  },
  {
   "cell_type": "code",
   "execution_count": null,
   "metadata": {},
   "outputs": [],
   "source": [
    "import sys\n",
    "import os\n",
    "import glob\n",
    "import xarray as xr\n",
    "import rioxarray as rxr\n",
    "import earthpy.plot as ep\n",
    "import numpy as np\n",
    "import uavsar_pytools\n",
    "import matplotlib.pyplot as plt\n",
    "import matplotlib\n",
    "import rasterio as rio\n",
    "from osgeo import gdal\n",
    "from rasterio.plot import show"
   ]
  },
  {
   "cell_type": "markdown",
   "metadata": {},
   "source": [
    "## What is UAVSAR?\n",
    "\n",
    "<img src=\"../../img/UAVSAR_plane.jpeg\" alt=\"uavsar scene\" width=\"800px\">\n",
    "\n",
    "UAVSAR stands for uninhabited aerial vehicle synthetic aperture radar. It is a suborbital (airplane) remote sensing instrument operated out of NASA JPL.\n",
    "\n",
    "| frequency (cm) | resolution (rng x azi m) | swath width (km) |\n",
    "| - | - | - | \n",
    "| L-band 23| 1.8 x 5.5 | 16 | \n",
    "\n",
    "Documentation:\n",
    "* https://uavsar.jpl.nasa.gov/education/what-is-uavsar.html\n",
    "* https://asf.alaska.edu/data-sets/sar-data-sets/uavsar/\n",
    "* https://ieeexplore-ieee-org.unr.idm.oclc.org/document/1631770 (Rosen et al. 2006)\n"
   ]
  },
  {
   "cell_type": "markdown",
   "metadata": {},
   "source": [
    "## Why would I use UAVSAR?"
   ]
  },
  {
   "cell_type": "markdown",
   "metadata": {},
   "source": [
    "UAVSAR works with low frequency radar waves. This means it is unaffected by clouds, maintains coherence, a measure of radar image quality, over long periods, and a time series was captured over 13 sites as part of the winter of 2019-2020 and 2020-2021. Additionally the "
   ]
  },
  {
   "cell_type": "markdown",
   "metadata": {},
   "source": [
    "## NASA SnowEx 2020 and 2021 UAVSAR Campaings\n",
    "\n",
    "During the winter of 2020 and 2021, NASA conducted an L-band InSAR timeseris at a seris of sites across the Western US with the goal of tracking changes in SWE. Field teams in 13 different locations in 2020, and in 6 locations in 2021, deployed on the date of the flight to perform calibration and validation observations.\n",
    "\n",
    ":::{figure-md} UAVSAR-map\n",
    "<img src=\"../../img/SnowEx_map.jpg\" alt=\"uavsar map\" width=\"800px\">\n",
    "\n",
    "Map of the UAVSAR flight locations for NASA SnowEx. Source: Chris Hiemstra\n",
    ":::"
   ]
  },
  {
   "cell_type": "markdown",
   "metadata": {},
   "source": [
    "## Data Access\n",
    "\n",
    "There are multiple ways to access UAVSAR data. Also the SQL database.\n",
    "\n",
    "* [JPL UAVSAR Data Search](https://uavsar.jpl.nasa.gov/cgi-bin/data.pl)\n",
    "* [Alaska Satellite Facility Vertex Portal](https://search.asf.alaska.edu/#/?dataset=UAVSAR)"
   ]
  },
  {
   "cell_type": "markdown",
   "metadata": {},
   "source": [
    "```{admonition} InSAR Data Types\n",
    ":class: InSAR Data Types\n",
    "- ANN file (.ann): a text annotation file with metadata\n",
    "- AMP files (.amp1 and .amp2): calibrated multi-looked amplitude products\n",
    "- INT files (.int): interferogram product, complex number format (we won't be using these here)\n",
    "- COR files (.cor): interferometric correlation product, a measure of the noise level of the phase\n",
    "- GRD files (.grd): interferometric products projected to the ground in simple geographic coordinates (latitude, longitude)\n",
    "- HGT file  (.hgt): the DEM that was used in the InSAR processing\n",
    "- KML and KMZ files (.kml or .kmz): format for viewing files in Google Earth (can't be used for analysis)\n",
    "```"
   ]
  },
  {
   "cell_type": "markdown",
   "metadata": {},
   "source": [
    "## Data Download and Conversion with ```uavsar_pytools```\n",
    "```uavsar_pytools``` is a Python package developed out of work started at SnowEx Hackweek 2021. It nativiely downloads, formats, and converts this data in analysis ready rasters projected in WSG-84 Lat/Lon (maybe more information here). The data traditionally comes in a binary format, which is not injestible by traditional geospatial analysis software (Python, R, QGIS, ArcGIS). \n",
    "\n",
    "\n",
    "To use it, you just need to input a url into the ```UavsarImage``` function, and a path to where you want the data output to be. Once that object is created, use the ```url_to_tiffs``` function to begin the process. Data has to download, but there's a progress bar to keep tabs. Once the data is downloaded the conversion happens within a miniute or so.\n",
    "\n",
    "Or you can use https://search.asf.alaska.edu/ to find a url through their vertex interface."
   ]
  },
  {
   "cell_type": "code",
   "execution_count": null,
   "metadata": {},
   "outputs": [],
   "source": [
    "# import function\n",
    "from uavsar_pytools import UavsarImage\n",
    "\n",
    "# set path to saving location\n",
    "saving_location = '/Users/jacktarricone/hackweek2022/tutorial_data/'"
   ]
  },
  {
   "cell_type": "markdown",
   "metadata": {},
   "source": [
    "### Download unwrapped phase (.unw) data"
   ]
  },
  {
   "cell_type": "code",
   "execution_count": null,
   "metadata": {},
   "outputs": [],
   "source": [
    "# set file path unwrapped phase data\n",
    "unw_image = 'http://uavsar.asfdaac.alaska.edu/UA_lowman_23205_21002-004_21004-003_0005d_s01_L090_01/lowman_23205_21002-004_21004-003_0005d_s01_L090HH_01.unw.grd'"
   ]
  },
  {
   "cell_type": "code",
   "execution_count": null,
   "metadata": {},
   "outputs": [],
   "source": [
    "# run function\n",
    "image = UavsarImage(url = unw_image, work_dir = saving_location)\n",
    "image.url_to_tiff()"
   ]
  },
  {
   "cell_type": "code",
   "execution_count": null,
   "metadata": {},
   "outputs": [],
   "source": [
    "# test plot\n",
    "image.show()"
   ]
  },
  {
   "cell_type": "markdown",
   "metadata": {},
   "source": [
    "### Download coherence (.cor) data"
   ]
  },
  {
   "cell_type": "code",
   "execution_count": null,
   "metadata": {},
   "outputs": [],
   "source": [
    "# set file path\n",
    "cor_image = 'http://uavsar.asfdaac.alaska.edu/UA_lowman_23205_21002-004_21004-003_0005d_s01_L090_01/lowman_23205_21002-004_21004-003_0005d_s01_L090HH_01.cor.grd'"
   ]
  },
  {
   "cell_type": "code",
   "execution_count": null,
   "metadata": {},
   "outputs": [],
   "source": [
    "# run function\n",
    "image2 = UavsarImage(url = cor_image, work_dir = './data/imgs/')\n",
    "image2.url_to_tiff()"
   ]
  },
  {
   "cell_type": "code",
   "execution_count": null,
   "metadata": {},
   "outputs": [],
   "source": [
    "# test plot\n",
    "image2.show()"
   ]
  },
  {
   "cell_type": "markdown",
   "metadata": {},
   "source": [
    "There is also functionality within called ```UavsarScence```, which can download zip files of interferometric data. While we won't use it here, it's useful for bulk downloading. "
   ]
  },
  {
   "cell_type": "code",
   "execution_count": null,
   "metadata": {},
   "outputs": [],
   "source": [
    "# download and convert data\n",
    "# from uavsar_pytools import UavsarScene\n",
    "# scene = UavsarScene(url = path_to_zip, work_dir = saving_location)\n",
    "# scene.url_to_tiffs()"
   ]
  },
  {
   "cell_type": "markdown",
   "metadata": {},
   "source": [
    "## Plotting the data"
   ]
  },
  {
   "cell_type": "code",
   "execution_count": null,
   "metadata": {},
   "outputs": [],
   "source": [
    "# set working directory\n",
    "os.chdir(saving_location)\n",
    "\n",
    "# unwrapped phase\n",
    "for unw in glob.glob('*unw.grd.tiff'):\n",
    "    print(unw)\n",
    "    \n",
    "# coherence\n",
    "for cor in glob.glob('*cor.grd.tiff'):\n",
    "    print(cor)"
   ]
  },
  {
   "cell_type": "code",
   "execution_count": null,
   "metadata": {},
   "outputs": [],
   "source": [
    "# open raster and inspect meta data using xarray\n",
    "unw_rast  = rxr.open_rasterio(unw)\n",
    "unw_rast"
   ]
  },
  {
   "cell_type": "code",
   "execution_count": null,
   "metadata": {},
   "outputs": [],
   "source": [
    "# get extent \n",
    "bounds = unw_rast.rio.bounds()\n",
    "print(bounds)"
   ]
  },
  {
   "cell_type": "code",
   "execution_count": null,
   "metadata": {},
   "outputs": [],
   "source": [
    "# convert to np.array for plotting\n",
    "unw_array = unw_rast[0].values\n",
    "unw_array"
   ]
  },
  {
   "cell_type": "code",
   "execution_count": null,
   "metadata": {},
   "outputs": [],
   "source": [
    "# plot\n",
    "plt.rcParams.update({'font.size': 12}) # increase plot font size for larger plot\n",
    "fig, ax = plt.subplots(figsize=(10, 20))\n",
    "\n",
    "ax.set_title(\"UNW (radians)\", fontsize= 20) #title and font size\n",
    "img = ax.imshow(unw_array, interpolation = 'nearest', cmap = 'viridis', vmin = -3, vmax = 2)\n",
    "\n",
    "# add legend\n",
    "colorbar = fig.colorbar(img, ax=ax, fraction=0.03, pad=0.04) # add color bar\n",
    "plt.show()"
   ]
  },
  {
   "cell_type": "code",
   "execution_count": null,
   "metadata": {},
   "outputs": [],
   "source": [
    "# open raster and inspect meta data\n",
    "cor_rast  = rxr.open_rasterio(cor)\n",
    "cor_rast"
   ]
  },
  {
   "cell_type": "code",
   "execution_count": null,
   "metadata": {},
   "outputs": [],
   "source": [
    "# convert to np.array for plotting\n",
    "cor_array = cor_rast[0].values"
   ]
  },
  {
   "cell_type": "code",
   "execution_count": null,
   "metadata": {},
   "outputs": [],
   "source": [
    "# plot\n",
    "fig, ax = plt.subplots(figsize=(10, 20))\n",
    "ax.set_title(\"Coherence\", fontsize= 20) #title and font size\n",
    "img = ax.imshow(cor_array, cmap = 'magma', interpolation = 'nearest', vmin = 0, vmax = 1)\n",
    "\n",
    "# add legend\n",
    "colorbar = fig.colorbar(img, ax=ax, fraction=0.03, pad=0.04) # add color bar\n",
    "plt.show()"
   ]
  },
  {
   "cell_type": "markdown",
   "metadata": {},
   "source": [
    "## Radar vs. Optical Imagery\n",
    "Here we will compare UAVSAR data prodcuts to optical Harmonized Landsat Sentinel-2 (HLS) data....."
   ]
  },
  {
   "cell_type": "code",
   "execution_count": null,
   "metadata": {},
   "outputs": [],
   "source": [
    "# set path\n",
    "os.chdir('/Users/jacktarricone/hackweek2022/tutorial_data/hls/')\n",
    "\n",
    "# define path to 3 band RGB image\n",
    "for rgb in glob.glob('*rgb.tif'):\n",
    "    print(rgb)\n",
    "\n",
    "# read in\n",
    "hls_rast = rxr.open_rasterio(rgb)\n",
    "hls_rast"
   ]
  },
  {
   "cell_type": "code",
   "execution_count": null,
   "metadata": {},
   "outputs": [],
   "source": [
    "# plot rgb image\n",
    "ep.plot_rgb(hls_rast.values,\n",
    "            rgb = [2, 1, 0],\n",
    "            title = \"HLS Optical 2/18/2021\", \n",
    "            stretch=True)\n",
    "plt.show()"
   ]
  },
  {
   "cell_type": "code",
   "execution_count": null,
   "metadata": {},
   "outputs": [],
   "source": [
    "# define for cropping\n",
    "min_lon = bounds[0]\n",
    "min_lat = bounds[1]\n",
    "max_lon = bounds[2]\n",
    "max_lat = bounds[3]\n",
    "\n",
    "# crop fabdem to uavsar extent\n",
    "hls_crop = hls_rast.rio.clip_box(minx=min_lon, miny=min_lat, maxx=max_lon, maxy=max_lat)"
   ]
  },
  {
   "cell_type": "code",
   "execution_count": null,
   "metadata": {},
   "outputs": [],
   "source": [
    "# get extent \n",
    "bounds2 = hls_rast.rio.bounds()\n",
    "print(bounds2)"
   ]
  },
  {
   "cell_type": "code",
   "execution_count": null,
   "metadata": {},
   "outputs": [],
   "source": [
    "# plot rgb image\n",
    "ep.plot_rgb(hls_crop.values,\n",
    "            rgb = [2, 1, 0],\n",
    "            title = \"HLS Optical 2/18/2021\", \n",
    "            stretch=True)\n",
    "plt.show()"
   ]
  },
  {
   "cell_type": "code",
   "execution_count": null,
   "metadata": {},
   "outputs": [],
   "source": [
    "# resample cropped fabdem down to uavsar resolution\n",
    "hls_resamp = hls_crop.rio.reproject_match(unw_rast)"
   ]
  },
  {
   "cell_type": "code",
   "execution_count": null,
   "metadata": {},
   "outputs": [],
   "source": [
    "# plot rgb image\n",
    "ep.plot_rgb(hls_resamp.values,\n",
    "            rgb = [2, 1, 0],\n",
    "            title = \"HLS Optical 2/18/2021\", \n",
    "            stretch=True)\n",
    "plt.show()"
   ]
  },
  {
   "cell_type": "code",
   "execution_count": null,
   "metadata": {},
   "outputs": [],
   "source": [
    "# mask fabdem by NaNs in uavsar dem, convert to np.array\n",
    "hls_resamp.data[np.isnan(unw_rast.data)] = np.nan\n",
    "\n",
    "hls_resamp\n",
    "#hls_mask = hls_resamp.data[0]"
   ]
  },
  {
   "cell_type": "code",
   "execution_count": null,
   "metadata": {},
   "outputs": [],
   "source": [
    "# plot rgb image\n",
    "ep.plot_rgb(hls_resamp.values,\n",
    "            rgb = [2, 1, 0],\n",
    "            title = \"HLS Optical 2/18/2021\", \n",
    "            stretch=True)\n",
    "plt.show()"
   ]
  }
 ],
 "metadata": {
  "kernelspec": {
   "display_name": "hackweek",
   "language": "python",
   "name": "hackweek"
  },
  "language_info": {
   "codemirror_mode": {
    "name": "ipython",
    "version": 3
   },
   "file_extension": ".py",
   "mimetype": "text/x-python",
   "name": "python",
   "nbconvert_exporter": "python",
   "pygments_lexer": "ipython3"
  },
  "vscode": {
   "interpreter": {
    "hash": "e19654659cce21412630ca62b4e45c445c0beae10bad80a7b2260d691fa3d203"
   }
  }
 },
 "nbformat": 4,
 "nbformat_minor": 4
}
