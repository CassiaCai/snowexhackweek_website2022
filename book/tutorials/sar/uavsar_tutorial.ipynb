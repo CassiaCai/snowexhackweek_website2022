{
 "cells": [
  {
   "cell_type": "markdown",
   "metadata": {},
   "source": [
    "# UAVSAR\n",
    "\n",
    ":::{figure-md} sthelens\n",
    "<img src=\"../../img/uavsar/sthelens.jpeg\" alt=\"uavsar scene\" width=\"800px\">\n",
    "\n",
    "Uavsar polarimetry imagery of Mt. St Helens. Source: Jones et al. 2008\n",
    ":::\n",
    "\n",
    "```{admonition} Learning Objectives\n",
    "**Learning Objectives**\n",
    "- What is UAVSAR?\n",
    "- Why would I use UAVSAR?\n",
    "- How can I access UAVSAR imagery?\n",
    "- What are the UAVSAR data products?\n",
    "- UAVSAR Snow water equivalent inversion\n",
    "```\n",
    "\n",
    "*Developers: \\\n",
    "Jack Tarricone, University of Nevada, Reno \\\n",
    "Zach Keskinen, Boise State University*\n",
    "\n",
    "*Other contributors: \\\n",
    "Ross Palomaki, Montana State University\\\n",
    "Naheem Adebisi, Boise State University*"
   ]
  },
  {
   "cell_type": "markdown",
   "metadata": {},
   "source": [
    "## What is UAVSAR?\n",
    "\n",
    "[UAVSAR](https://uavsar.jpl.nasa.gov/education/what-is-uavsar.html) is a low frequency plane-based synthetic aperature radar. UAVSAR stands for \"Uninhabited Aeriel Vehicle Synthetic Aperature Radar\". It captures imagery using a L-band radar. This low frequency means it can penetrate into and through clouds, vegetation, and snow.\n",
    "\n",
    "| frequency (cm) | resolution (rng x azi m) | Swath Width (km) | Polarizations | Launch date |\n",
    "| - | - | - | - | - |\n",
    "| L-band 23| 1.8 x 5.5 | 16 | VV, VH, HV, HH | 2007 |"
   ]
  },
  {
   "cell_type": "markdown",
   "metadata": {},
   "source": [
    "### NASA SnowEx 2020 and 2021 UAVSAR Campaings\n",
    "\n",
    "During the winter of 2020 and 2021, NASA conducted an L-band InSAR timeseries across the Western US with the goal of tracking changes in SWE. Field teams in 13 different locations in 2020, and in 6 locations in 2021, deployed on the date of the flight to perform calibration and validation observations.\n",
    "\n",
    ":::{figure-md} UAVSAR-map\n",
    "<img src=\"../../img/SnowEx_map.jpg\" alt=\"uavsar map\" width=\"800px\">\n",
    "\n",
    "Map of the UAVSAR flight locations for NASA SnowEx. Note that the Montana site (Central Agricultral Research Center) is not on this map. Source: Chris Hiemstra\n",
    ":::\n",
    "\n",
    "---\n",
    "\n",
    "The site locations from the above map along with the [Uavsar defined campaign name](https://api.daac.asf.alaska.edu/services/utils/mission_list) and currently processed pairs of InSAR images for each site. Note that the image pair count may contain multiple versions of the same image and may increase as more pairs of images are processed by JPL.\n",
    "\n",
    "| Site Location | Campaign Name | Image Pairs |\n",
    "| - | - | - |\n",
    "| Grand Mesa | Grand Mesa, CO | 13 |\n",
    "| Boise River Basin | Lowman, CO | 17 |\n",
    "| Frazier Experimental Forest | Fraser, CO | 16 |\n",
    "| Senator Beck Basin | Ironton, CO | 9 |\n",
    "| East River | Peeler Peak, CO | 4 |\n",
    "| Cameron Pass | Rocky Mountains NP, CO | 15 |\n",
    "| Reynold Creek | Silver City, ID | 1 |\n",
    "| Central Agricultral Research Center | Utica, MT | 2 |\n",
    "| Little Cottonwoody Canyon | Salt Lake City, UT | 21 |\n",
    "| Jemez River | Los Alamos, NM | 3 |\n",
    "| American River Basin | Eldorado National Forest, CA | 4 |\n",
    "| Sagehen Creek | Donner Memorial State Park, CA | 4 |\n",
    "| Lakes Basin | Sierra National Forest, CA | 3 |"
   ]
  },
  {
   "cell_type": "markdown",
   "metadata": {},
   "source": [
    "### Why would I use Uavsar imagery?"
   ]
  },
  {
   "cell_type": "markdown",
   "metadata": {},
   "source": [
    "L-band radar imagery penetrates through the snowpack. However when it crosses into the snowpack from the air it refracts at an angle, similar to light entering water. This refraction leads to a phase shift relative to an image with no or less snow. Using this difference in phase between two images we can calculate the change in snow height between flights using:\n",
    "\n",
    "$$\n",
    "\\Delta d = - \\frac{\\Delta \\phi \\lambda}{4 \\pi} \\frac{1}{\\cos^{ } \\alpha - \\sqrt{\\epsilon_{s} - \\sin^{2} \\alpha}}\n",
    "$$"
   ]
  },
  {
   "cell_type": "markdown",
   "metadata": {},
   "source": []
  },
  {
   "cell_type": "code",
   "execution_count": null,
   "metadata": {},
   "outputs": [],
   "source": [
    "\n",
    "\n",
    ":::{figure-md} conceptualfigure\n",
    "<img src=\"../../img/uavsar/conceptual.png\" style=\"background-color:white;\" alt=\"conceptual_fig\">\n",
    "\n",
    "Conceptual diagram of radar refraction across the air-snow interface.\n",
    ":::\n",
    "\n"
   ]
  }
 ],
 "metadata": {
  "language_info": {
   "name": "python"
  },
  "orig_nbformat": 4
 },
 "nbformat": 4,
 "nbformat_minor": 2
}
