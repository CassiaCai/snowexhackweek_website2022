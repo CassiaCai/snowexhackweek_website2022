{
 "cells": [
  {
   "cell_type": "markdown",
   "id": "4b8d86bc",
   "metadata": {
    "tags": [
     "output_scroll"
    ]
   },
   "source": [
    "# Introduction to AVIRIS-NG"
   ]
  },
  {
   "cell_type": "markdown",
   "id": "5f8e4ae9",
   "metadata": {},
   "source": [
    "<img alt=\"AVIRIS Logo\" src=\"Aviris.png\" style=\"margin:auto\"/>"
   ]
  },
  {
   "cell_type": "markdown",
   "id": "17d7a4c8",
   "metadata": {},
   "source": [
    "<br><b>Contributors:</b> Joachim Meyer<sup>1</sup>, Chelsea Ackroyd<sup>1</sup>, McKenzie Skiles<sup>1</sup>\n",
    "<br>\n",
    "<sup>1</sup>University of Utah\n"
   ]
  },
  {
   "cell_type": "markdown",
   "id": "09acf58b",
   "metadata": {},
   "source": [
    "```{admonition} Learning Objectives\n",
    "\n",
    "* Become familiar with hyperspectral data, including data orginiating from AVIRIS-NG\n",
    "* Understand the fundamental methods for displaying and exploring hyperspectral data in Python\n",
    "* Identify the amount of ice in a given pixel using spectral feature fitting methodology\n",
    "\n",
    "```"
   ]
  },
  {
   "cell_type": "markdown",
   "id": "54694598",
   "metadata": {},
   "source": [
    "## Review of Hyperspectral Data\n",
    "\n"
   ]
  },
  {
   "cell_type": "markdown",
   "id": "9dc5b79c",
   "metadata": {},
   "source": [
    "Incoming solar radiation is either reflected, absorbed, or transmitted (or a combination of all three) depending on the surface material. This spectral response allows us to identify varying surface types (e.g. vegetation, snow, water, etc.) in a remote sensing image. The <b>spectral resolution</b>, or the wavelength interval, determines the amount of detail recorded in the spectral response: finer spectral resolutions have bands with narrow wavelength intervals, while coarser spectral resolutions have bands with larger wavelength intervals, and therefore, less detail in the spectral response."
   ]
  },
  {
   "cell_type": "markdown",
   "id": "4ab340f3",
   "metadata": {},
   "source": [
    "![NEON Tutorial](https://raw.githubusercontent.com/NEONScience/NEON-Data-Skills/dev-aten/graphics/hyperspectral-general/spectrumZoomed.png)"
   ]
  },
  {
   "cell_type": "markdown",
   "id": "6777d9fb",
   "metadata": {},
   "source": [
    "![NEON FWHM](https://raw.githubusercontent.com/NEONScience/NEON-Data-Skills/dev-aten/graphics/hyperspectral-general/FWHM2.png)\n",
    "\n",
    "https://www.neonscience.org/resources/learning-hub/tutorials/hyper-spec-intro"
   ]
  },
  {
   "cell_type": "markdown",
   "id": "6742370e",
   "metadata": {},
   "source": [
    "### Multispectral vs. Hyperspectral Data\n",
    "\n",
    "Multispectral instruments have larger spectral resolutions with fewer bands. This level of detail can be limiting in distinguishing between surface types. Hyperspectral instruments, in comparison, typically have hundreds of bands with relatively narrow wavelength intervals. The image below illustrates the difference in spectral responses between a multispectral (Landsat 8 OLI) and a hyperspectral (AVIRIS) sensor."
   ]
  },
  {
   "cell_type": "markdown",
   "id": "03d5a168",
   "metadata": {},
   "source": [
    "<img alt=\"AVIRIS Logo\" src=\"Hyper_vs_Multispectral.png\" style=\"margin:auto\"/>"
   ]
  },
  {
   "cell_type": "markdown",
   "id": "a7efa1cd",
   "metadata": {},
   "source": [
    "## AVIRIS-NG Meets SnowEx\n",
    "\n",
    "AVIRIS-NG measures upwelling radiance across 485 continuous spectral bands.\n",
    "\n",
    "```{list-table} AVIRIS-NG SnowEx specs\n",
    ":header-rows: 1\n",
    ":name: snowex-avirisng\n",
    "\n",
    "* - Flight Altitude\n",
    "  - Spatial Resolution\n",
    "  - Spectral Resolution\n",
    "  - Spectral Range\n",
    "* - 25,000 ft ASL\n",
    "  - 4 m\n",
    "  - 5 nm \n",
    "  - 308 nm to 2510 nm\n",
    "```\n",
    "\n",
    "```{list-table} SnowEx flights\n",
    ":header-rows: 1\n",
    ":name: snowex-flights\n",
    "\n",
    "* - Flight Dates\n",
    "  - Study Site\n",
    "* - 2021-04-11\n",
    "  - Senator Beck Basin\n",
    "* - 2021-04-11\n",
    "  - Grand Mesa\n",
    "* - 2021-04-29\n",
    "  - Senator Beck Basin\n",
    "* - 2021-04-29\n",
    "  - Grand Mesa\n",
    "```"
   ]
  },
  {
   "cell_type": "markdown",
   "id": "dfe3d920",
   "metadata": {},
   "source": [
    "### Accessing the data"
   ]
  },
  {
   "cell_type": "markdown",
   "id": "c1fa4700",
   "metadata": {},
   "source": [
    "Data products:\n",
    "* Spectral radiance/observation geometry (L1B)\n",
    "* Corrected Reflectance (L2)\n",
    "\n",
    "L2 will be available to the public soon via <b>NSIDC</b> \n"
   ]
  },
  {
   "cell_type": "markdown",
   "id": "499b907e",
   "metadata": {},
   "source": [
    "## First look at the data"
   ]
  },
  {
   "cell_type": "markdown",
   "id": "3883b5cd",
   "metadata": {},
   "source": [
    "```{Important} \n",
    "You will always want the data file __and__ the header file when processing. </div>\n",
    "```"
   ]
  },
  {
   "cell_type": "markdown",
   "id": "9d7f50d5",
   "metadata": {},
   "source": [
    "For today, we are downloading and using a subsample that encompasses Swamp Angel Study Plot. The download is done via the Python [urllib.request](https://docs.python.org/3/library/urllib.request.html) native library."
   ]
  },
  {
   "cell_type": "code",
   "execution_count": null,
   "id": "266b6ca6",
   "metadata": {},
   "outputs": [],
   "source": [
    "import urllib.request"
   ]
  },
  {
   "cell_type": "markdown",
   "id": "8ec43f35",
   "metadata": {},
   "source": [
    "1) The data file"
   ]
  },
  {
   "cell_type": "code",
   "execution_count": null,
   "id": "4b4c2faf",
   "metadata": {},
   "outputs": [],
   "source": [
    "SBB_data_file = 'data/ang20210411t181022_rfl_v2z1a_img_SASP'\n",
    "urllib.request.urlretrieve(\n",
    "    'https://github.com/snowex-hackweek/tutorial-data/blob/main/SnowEx-2022/AVIRIS-NG/ang20210411t181022_rfl_v2z1a_img_SASP?raw=true',\n",
    "    SBB_data_file\n",
    ");"
   ]
  },
  {
   "cell_type": "markdown",
   "id": "1c0f20b8",
   "metadata": {},
   "source": [
    "2) The header file"
   ]
  },
  {
   "cell_type": "code",
   "execution_count": null,
   "id": "fec25116",
   "metadata": {},
   "outputs": [],
   "source": [
    "SBB_header_file = 'data/ang20210411t181022_rfl_v2z1a_img_SASP.hdr'\n",
    "urllib.request.urlretrieve(\n",
    "    'https://raw.githubusercontent.com/snowex-hackweek/tutorial-data/main/SnowEx-2022/AVIRIS-NG/ang20210411t181022_rfl_v2z1a_img_SASP.hdr',\n",
    "    SBB_header_file\n",
    ");"
   ]
  },
  {
   "cell_type": "markdown",
   "id": "a5dc7821",
   "metadata": {},
   "source": [
    "3) The original header file (hold on tight on why ...)"
   ]
  },
  {
   "cell_type": "code",
   "execution_count": null,
   "id": "545e254c",
   "metadata": {},
   "outputs": [],
   "source": [
    "original_header_file = 'data/ang20210411t181022_rfl_v2z1a_img.hdr'\n",
    "urllib.request.urlretrieve(\n",
    "    'https://raw.githubusercontent.com/snowex-hackweek/tutorial-data/main/SnowEx-2022/AVIRIS-NG/ang20210411t181022_rfl_v2z1a_img.hdr',\n",
    "    original_header_file\n",
    ");"
   ]
  },
  {
   "cell_type": "markdown",
   "id": "bc0bdc3d",
   "metadata": {
    "tags": []
   },
   "source": [
    "## Exploring multiple flight lines "
   ]
  },
  {
   "cell_type": "markdown",
   "id": "216d963b",
   "metadata": {},
   "source": [
    "Interactive exploration using GeoPandas and the folium plotting library:\n",
    "* https://geopandas.org/en/stable/docs/user_guide/interactive_mapping.html"
   ]
  },
  {
   "cell_type": "code",
   "execution_count": null,
   "id": "b214855a",
   "metadata": {},
   "outputs": [],
   "source": [
    "import geopandas\n",
    "import folium"
   ]
  },
  {
   "cell_type": "markdown",
   "id": "fa717c87",
   "metadata": {},
   "source": [
    "### Create an index"
   ]
  },
  {
   "cell_type": "markdown",
   "id": "94687fe2",
   "metadata": {},
   "source": [
    "With a little help from GDAL and the `gdaltindex` command, we can create an index for all flight lines and see where they are:\n",
    "* https://gdal.org/programs/gdaltindex.html\n",
    "\n",
    "An example command that creates a [GeoPackage](https://www.geopackage.org/)"
   ]
  },
  {
   "cell_type": "markdown",
   "id": "ec9738dd",
   "metadata": {},
   "source": [
    "```bash\n",
    "gdaltindex -t_srs EPSG:4326 index.gpkg ang20210411t1*_rfl*img\n",
    "```"
   ]
  },
  {
   "cell_type": "markdown",
   "id": "e003518b",
   "metadata": {},
   "source": [
    "### Breaking down the command:\n",
    "This command creates an index file `index.gpkg` for all flight lines starting with `ang20210411t1*` and selects only the reflectance prodcuts `_rfl*img`. The star `*` acts as a wildcard to include more than one file where the elements of the string as whole matches. The `-t_srs EPSG:4326` ensures that the read projection for all files will be stored as WGS 84 in the index. It does not change anything with the flight line data itself.\n",
    "Specifically for hyperspectral data, it is important to _not_ include the header files (ending with `.hdr`). GDAL automatically reads those with every image file and adding them to the list of files would cause a duplication.\n",
    "\n",
    "One way to test the included files is to use the search string with the list (`ls -lh`) command in the terminal.\n",
    "The `-l` option lists the output with one line per file, and `-h` will show file size in 'human readable' units such as MB and GB.\n",
    "\n",
    "Example:"
   ]
  },
  {
   "cell_type": "markdown",
   "id": "d82aa6a1",
   "metadata": {},
   "source": [
    "```bash\n",
    "ls -lh index.gpkg ang20210411t1*_rfl*img\n",
    "```"
   ]
  },
  {
   "cell_type": "markdown",
   "id": "b895d294",
   "metadata": {},
   "source": [
    "Sample output:\n",
    "```bash\n",
    "-rw-r--r-- username groupname 2.3G Feb 16 08:23 ang20210411t180555_rfl_v2z1a_img\n",
    "-rw-r--r-- username groupname 1.6G Feb 16 08:24 ang20210411t181022_rfl_v2z1a_img\n",
    "-rw-r--r-- username groupname 1.9G Feb 16 08:23 ang20210411t181414_rfl_v2z1a_img\n",
    "-rw-r--r-- username groupname 1.8G Feb 16 08:23 ang20210411t181822_rfl_v2z1a_img\n",
    "\n",
    "```"
   ]
  },
  {
   "cell_type": "markdown",
   "id": "eff36a8a",
   "metadata": {
    "tags": []
   },
   "source": [
    "### Load the created index and some geospatial information into a GeoDataframe to explore interactively"
   ]
  },
  {
   "cell_type": "markdown",
   "id": "fd62fbe2",
   "metadata": {},
   "source": [
    "GeoPandas has the ability to read files from disk or from a remote URL. When using a URL the information is held in memory for that session and will be lost once you restart the Python kernel."
   ]
  },
  {
   "cell_type": "code",
   "execution_count": null,
   "id": "e30af603",
   "metadata": {},
   "outputs": [],
   "source": [
    "flight_lines = geopandas.read_file('https://github.com/snowex-hackweek/tutorial-data/blob/main/SnowEx-2022/AVIRIS-NG/20210411_flights.gpkg?raw=true')\n",
    "sbb = geopandas.read_file('https://raw.githubusercontent.com/snowex-hackweek/tutorial-data/main/SnowEx-2022/AVIRIS-NG/SBB_basin.geojson')\n",
    "swamp_angel = geopandas.read_file('https://raw.githubusercontent.com/snowex-hackweek/tutorial-data/main/SnowEx-2022/AVIRIS-NG/SwampAngel.geojson')"
   ]
  },
  {
   "cell_type": "code",
   "execution_count": null,
   "id": "4bba3f14",
   "metadata": {},
   "outputs": [],
   "source": [
    "# Create a map with multiple layers to explore where the lines are\n",
    "## Layer 1 used as base layer\n",
    "sbb_layer = sbb.explore(\n",
    "    name='SBB basin',\n",
    "    color='green'\n",
    ")\n",
    "## Layer 2\n",
    "swamp_angel.explore(\n",
    "    m=sbb_layer,                   ## Add this layer to the Layer 1\n",
    "    name='Swamp Angel Study Plot'\n",
    ")\n",
    "## Layer 3\n",
    "flight_lines.explore(\n",
    "    m=sbb_layer,                   ## Add this layer to the Layer 1\n",
    "    name='AVIRIS flight lines',\n",
    "    column='location'\n",
    ")\n",
    "# Top right box to toggle layer visibility\n",
    "folium.LayerControl().add_to(sbb_layer)\n",
    "\n",
    "# Show the final map with all layer\n",
    "sbb_layer"
   ]
  },
  {
   "cell_type": "markdown",
   "id": "acad6ba1",
   "metadata": {
    "tags": []
   },
   "source": [
    "## Exploring a single flight line "
   ]
  },
  {
   "cell_type": "markdown",
   "id": "8cae0907",
   "metadata": {},
   "source": [
    "Check our current file location (This is called a [magic command](https://ipython.readthedocs.io/en/stable/interactive/magics.html))"
   ]
  },
  {
   "cell_type": "code",
   "execution_count": null,
   "id": "9c0844d5",
   "metadata": {},
   "outputs": [],
   "source": [
    "%pwd"
   ]
  },
  {
   "cell_type": "markdown",
   "id": "3a1a2b72",
   "metadata": {},
   "source": [
    "We can store this output in a local variable"
   ]
  },
  {
   "cell_type": "code",
   "execution_count": null,
   "id": "e8b8ace2",
   "metadata": {},
   "outputs": [],
   "source": [
    "home_folder = %pwd"
   ]
  },
  {
   "cell_type": "markdown",
   "id": "88da3c48",
   "metadata": {},
   "source": [
    "Create absolute paths to our downloaded files"
   ]
  },
  {
   "cell_type": "code",
   "execution_count": null,
   "id": "a73e679a",
   "metadata": {},
   "outputs": [],
   "source": [
    "SBB_data_file = f'{home_folder}/{SBB_data_file}'\n",
    "SBB_header_file = f'{home_folder}/{SBB_header_file}'"
   ]
  },
  {
   "cell_type": "markdown",
   "id": "52daf69c",
   "metadata": {},
   "source": [
    "### Spectral Python library "
   ]
  },
  {
   "cell_type": "markdown",
   "id": "3bb5dfc5",
   "metadata": {},
   "source": [
    "```{seealso}\n",
    "\n",
    "* https://www.spectralpython.net/\n",
    "* https://github.com/spectralpython/spectral\n",
    "```"
   ]
  },
  {
   "cell_type": "code",
   "execution_count": null,
   "id": "a6116f11",
   "metadata": {},
   "outputs": [],
   "source": [
    "import spectral"
   ]
  },
  {
   "cell_type": "code",
   "execution_count": null,
   "id": "ec83605e",
   "metadata": {},
   "outputs": [],
   "source": [
    "# Create a file object for the original image\n",
    "image = spectral.open_image(SBB_header_file)"
   ]
  },
  {
   "cell_type": "code",
   "execution_count": null,
   "id": "27a7a1a7",
   "metadata": {},
   "outputs": [],
   "source": [
    "# Get information about the bands\n",
    "image.bands.centers"
   ]
  },
  {
   "cell_type": "markdown",
   "id": "28a76357",
   "metadata": {},
   "source": [
    "Darn ... we have an empty output. This subset was created using the GDAL library. Unfortunately, GDAL does not write the headers in a format that the spectral library recognizes. This is where the original header file comes into play. "
   ]
  },
  {
   "cell_type": "code",
   "execution_count": null,
   "id": "0b8a9ba0",
   "metadata": {},
   "outputs": [],
   "source": [
    "import spectral.io.envi as envi"
   ]
  },
  {
   "cell_type": "markdown",
   "id": "839d3479",
   "metadata": {},
   "source": [
    "```{attention}\n",
    "We are accessing the original header, not the subset data file. \n",
    "This is a workaround to get to the band information\n",
    "```"
   ]
  },
  {
   "cell_type": "code",
   "execution_count": null,
   "id": "fc42981c",
   "metadata": {},
   "outputs": [],
   "source": [
    "header = envi.open(original_header_file, SBB_data_file)"
   ]
  },
  {
   "cell_type": "markdown",
   "id": "79bee607",
   "metadata": {
    "tags": []
   },
   "source": [
    "### Find band index for a wavelength "
   ]
  },
  {
   "cell_type": "code",
   "execution_count": null,
   "id": "efa2dbbb",
   "metadata": {},
   "outputs": [],
   "source": [
    "import numpy as np"
   ]
  },
  {
   "cell_type": "code",
   "execution_count": null,
   "id": "7a89baa1",
   "metadata": {
    "tags": [
     "output_scroll"
    ]
   },
   "outputs": [],
   "source": [
    "type(header.bands)"
   ]
  },
  {
   "cell_type": "markdown",
   "id": "c6b46427",
   "metadata": {},
   "source": [
    "Ahhh ... much better"
   ]
  },
  {
   "cell_type": "code",
   "execution_count": null,
   "id": "3a4d9ba1",
   "metadata": {},
   "outputs": [],
   "source": [
    "bands = np.array(header.bands.centers)"
   ]
  },
  {
   "cell_type": "code",
   "execution_count": null,
   "id": "7e66fa51",
   "metadata": {},
   "outputs": [],
   "source": [
    "bands"
   ]
  },
  {
   "cell_type": "markdown",
   "id": "84669f60",
   "metadata": {},
   "source": [
    "#### Inspect spatial metadata"
   ]
  },
  {
   "cell_type": "code",
   "execution_count": null,
   "id": "8e80b91f",
   "metadata": {},
   "outputs": [],
   "source": [
    "header.metadata['map info']"
   ]
  },
  {
   "cell_type": "markdown",
   "id": "6b208b2d",
   "metadata": {},
   "source": [
    "The map info has geographic information in the following order:\n",
    "\n",
    "* Projection name\n",
    "* Reference (tie point in x pixel-space)\n",
    "* Reference (tie point in y pixel-space)\n",
    "* Pixel easting (in projection coordinates)\n",
    "* Pixel northing (in projection coordinates)\n",
    "* X resolution in geodetic space\n",
    "* y resolution in geodetic space\n",
    "* Projection zone (when UTM)\n",
    "* North or South (when UTM)\n",
    "* Units (Projection)\n",
    "* Rotation\n"
   ]
  },
  {
   "cell_type": "markdown",
   "id": "9504e07d",
   "metadata": {},
   "source": [
    "### Exploring the data "
   ]
  },
  {
   "cell_type": "markdown",
   "id": "3bb597c7",
   "metadata": {},
   "source": [
    "#### Define wavelengths for the colors we want"
   ]
  },
  {
   "cell_type": "code",
   "execution_count": null,
   "id": "640df714",
   "metadata": {},
   "outputs": [],
   "source": [
    "red = 645\n",
    "green = 510\n",
    "blue = 440"
   ]
  },
  {
   "cell_type": "code",
   "execution_count": null,
   "id": "d00f627a",
   "metadata": {},
   "outputs": [],
   "source": [
    "np.argmin(np.abs(bands - red))"
   ]
  },
  {
   "cell_type": "code",
   "execution_count": null,
   "id": "b1495ac6",
   "metadata": {},
   "outputs": [],
   "source": [
    "bands[54]"
   ]
  },
  {
   "cell_type": "markdown",
   "id": "bf7e222d",
   "metadata": {},
   "source": [
    "#### Create a method to get the values for many different wavelengths"
   ]
  },
  {
   "cell_type": "code",
   "execution_count": null,
   "id": "9075d5e0",
   "metadata": {},
   "outputs": [],
   "source": [
    "def index_for_band(band):\n",
    "    # Return the index with the minimum difference between the target and available band center\n",
    "    return np.argmin(np.abs(bands - band))"
   ]
  },
  {
   "cell_type": "code",
   "execution_count": null,
   "id": "fc7773b0",
   "metadata": {},
   "outputs": [],
   "source": [
    "index_for_band(green)"
   ]
  },
  {
   "cell_type": "code",
   "execution_count": null,
   "id": "a1ad3864",
   "metadata": {},
   "outputs": [],
   "source": [
    "index_for_band(blue)"
   ]
  },
  {
   "cell_type": "markdown",
   "id": "a2ddd0af",
   "metadata": {},
   "source": [
    "### Inspection plot for selected bands "
   ]
  },
  {
   "cell_type": "code",
   "execution_count": null,
   "id": "d903f858",
   "metadata": {},
   "outputs": [],
   "source": [
    "import matplotlib.pyplot as plt\n",
    "\n",
    "%matplotlib inline\n",
    "#Increase the default figure output resolution\n",
    "plt.rcParams['figure.dpi'] = 200"
   ]
  },
  {
   "cell_type": "markdown",
   "id": "a56981e6",
   "metadata": {},
   "source": [
    "### Subset of Swamp Angel Study Plot (SASP)"
   ]
  },
  {
   "cell_type": "markdown",
   "id": "2c4732c4",
   "metadata": {},
   "source": [
    "Use GDAL warp to subset"
   ]
  },
  {
   "cell_type": "markdown",
   "id": "2360e627",
   "metadata": {},
   "source": [
    "```{toggle}\n",
    "\n",
    "  ```bash\n",
    "  gdalwarp -co INTERLEAVE=BIL -of ENVI \\                                   # Preserve the data as ENVI file\n",
    "           -te 261469.404472 4198850.600453 261811.425717 4199084.295516 \\ # The target extent\n",
    "           ang20210411t181022_rfl_v2z1a_img                                # Source file\n",
    "           ang20210411t181022_rfl_v2z1a_img_SASP                           # Destination file\n",
    "  ```\n",
    "\n",
    "```"
   ]
  },
  {
   "cell_type": "markdown",
   "id": "d816a488",
   "metadata": {},
   "source": [
    "```{Important}\n",
    "Going back to the original header file for the spatial extent\n",
    "```"
   ]
  },
  {
   "cell_type": "markdown",
   "id": "2493ac46",
   "metadata": {},
   "source": [
    "Show some first image information"
   ]
  },
  {
   "cell_type": "code",
   "execution_count": null,
   "id": "a074113a",
   "metadata": {},
   "outputs": [],
   "source": [
    "image = spectral.open_image(SBB_header_file)\n",
    "\n",
    "print(image)"
   ]
  },
  {
   "cell_type": "code",
   "execution_count": null,
   "id": "238f578a",
   "metadata": {},
   "outputs": [],
   "source": [
    "# Loads the entire image into memory as an array\n",
    "image_data = image.load()"
   ]
  },
  {
   "cell_type": "markdown",
   "id": "c1e38858",
   "metadata": {},
   "source": [
    "#### Plot the image based on the previously determined band indices (RGB)"
   ]
  },
  {
   "cell_type": "code",
   "execution_count": null,
   "id": "900b58c6",
   "metadata": {},
   "outputs": [],
   "source": [
    "view = spectral.imshow(image_data, (53,27,13), title = 'RGB of SASP')"
   ]
  },
  {
   "cell_type": "markdown",
   "id": "1c5506e1",
   "metadata": {},
   "source": [
    "```{admonition} Exercise\n",
    ":class: dropdown\n",
    "\n",
    "Pick the wavelengths of your choice and plot the Swamp Angel Study plot.\n",
    "\n",
    "Which bands did you pick?\n",
    "Does the image look as expected?\n",
    "\n",
    "Let's discuss the result with your neighbour.\n",
    "```"
   ]
  },
  {
   "cell_type": "markdown",
   "id": "1afd87d7",
   "metadata": {},
   "source": [
    "## Introduction to Spectral Feature Fitting \n",
    "\n",
    "Now that we know how to access and explore hyperspectral data, we can take advantage of the detailed spectral signature to better understand the surface characteristics. For instance, using the Spectral Feature Fitting method, we can compare the absorption features within the image spectra to a reference spectra in order to identify the presence of a specific material within a given pixel. Here, we will demonstrate this using the ice absorption feature in a snow-covered pixel found within Swamp Angel Study Plot. \n",
    "\n",
    "To do so, we will follow the principles of the Beer-Lambert equation, which assumes one-way transmittance through a homogeneous medium: \n",
    "\n",
    "$$E_\\lambda = E_{0\\lambda} e^{-\\alpha_\\lambda d}$$ \n",
    "\n",
    "where $E_{0\\lambda}$ and $E_\\lambda$ are the initial and measured spectral irradiance, respectively, $\\alpha_\\lambda$ is a wavelength-specific absorption coefficient, and $d$ is the distance (i.e. thickness) that absorption occurs over. This will allow us to estimate an “equivalent thickness” of ice in a pixel."
   ]
  },
  {
   "cell_type": "markdown",
   "id": "b0847ecd",
   "metadata": {},
   "source": [
    "### Load the reference spectra\n",
    "\n",
    "First, we'll start by loading the reference spectra. This table provides the simple refractive index ($n_\\lambda$) and the extinction coefficient ($k_\\lambda$) for water and ice between 400 and 2500 nm. "
   ]
  },
  {
   "cell_type": "code",
   "execution_count": null,
   "id": "934840e0",
   "metadata": {},
   "outputs": [],
   "source": [
    "ref_spectra_fname = 'data/h2o_indices.csv'\n",
    "urllib.request.urlretrieve(\n",
    "    'https://raw.githubusercontent.com/snowex-hackweek/tutorial-data/main/SnowEx-2022/AVIRIS-NG/h2o_indices.csv',\n",
    "    ref_spectra_fname\n",
    ");"
   ]
  },
  {
   "cell_type": "code",
   "execution_count": null,
   "id": "9dc8ccd0",
   "metadata": {},
   "outputs": [],
   "source": [
    "# Read the file into a numpy array\n",
    "ref_spectra = np.loadtxt(ref_spectra_fname, delimiter=\",\", skiprows=1)  # Skip the header row\n",
    "\n",
    "# Let's take a look at the dimensions of our new array and print out the first few and last few lines.\n",
    "print(ref_spectra.shape)\n",
    "ref_spectra"
   ]
  },
  {
   "cell_type": "markdown",
   "id": "51e2434d",
   "metadata": {},
   "source": [
    "Because we are focused primarily on ice in this example, we will only use columns 4 and 5 (the simple refractive index and the extinction coefficient for ice, respectively)."
   ]
  },
  {
   "cell_type": "markdown",
   "id": "1dbf5364",
   "metadata": {},
   "source": [
    "Using $k_\\lambda$, we can solve for the absorption coefficient:\n",
    "\n",
    "$$\\alpha_\\lambda = \\frac{4\\pi k_\\lambda}{\\lambda}$$"
   ]
  },
  {
   "cell_type": "code",
   "execution_count": null,
   "id": "ce6305e8",
   "metadata": {},
   "outputs": [],
   "source": [
    "import math \n",
    "# Extract columns from array\n",
    "wvl_nm_fullres = ref_spectra[:, 0] # extract the wavelength column\n",
    "wvl_cm_fullres = wvl_nm_fullres / 1e9 * 1e2  # convert wavelength from nm to cm\n",
    "ice_k = ref_spectra[:, 4] # get k for ice\n",
    "\n",
    "# Calculate absorption coefficients in cm^-1\n",
    "ice_abs_fullres = ice_k * math.pi * 4.0 / wvl_cm_fullres\n",
    "\n",
    "# Plot absorption coefficients\n",
    "plt.plot(wvl_nm_fullres, ice_abs_fullres, color='blue')\n",
    "plt.xlabel('Wavelength (nm)')\n",
    "plt.ylabel('Absorption Coefficient ($cm^{-1}$)')\n",
    "plt.show()"
   ]
  },
  {
   "cell_type": "markdown",
   "id": "0c16dcf8",
   "metadata": {},
   "source": [
    "It’s hard to get an intuitive sense of the strength of absorption because of our units (cm<sup>-1</sup>). We can see that the values are higher in the SWIR than in the NIR and visible, indicating more absorption in these wavelengths. One way to make absorption strength more intuitive is to calculate e-folding distance spectra."
   ]
  },
  {
   "cell_type": "markdown",
   "id": "76e784ef",
   "metadata": {},
   "source": [
    "### Calculate e-folding distance\n",
    "\n",
    "We can calculate the e-folding distance to better visualize the absorption feature. This distance will occur when $\\alpha_\\lambda d = 1$, so:\n",
    "\n",
    "$$d = \\frac{1}{\\alpha_\\lambda}$$\n",
    "\n",
    "Solving for  $d$  gives us the equivalent thickness of a material needed to reproduce the absorption feature."
   ]
  },
  {
   "cell_type": "code",
   "execution_count": null,
   "id": "1fb3d420",
   "metadata": {},
   "outputs": [],
   "source": [
    "# Calculate e-folding distances in cm\n",
    "ice_efld_fullres = 1 / ice_abs_fullres\n",
    "\n",
    "# Plot e-folding distance\n",
    "plt.plot(wvl_nm_fullres, ice_efld_fullres, color='blue')\n",
    "plt.xlabel('Wavelength (nm)')\n",
    "plt.ylabel('e-folding distance (cm)')\n",
    "plt.xlim([900, 2500])\n",
    "plt.ylim([0,8])\n",
    "plt.show()"
   ]
  },
  {
   "cell_type": "markdown",
   "id": "a629a742",
   "metadata": {},
   "source": [
    "We can see that absorption is strong beyond 1400 nm. Thus, we will use the region of moderate absorption (between 900 and 1300 nm) for our spectral feature fitting (SFF)."
   ]
  },
  {
   "cell_type": "markdown",
   "id": "e2a29937",
   "metadata": {},
   "source": [
    "### Load the point of interest \n",
    "\n",
    "Next, we will load a GeoJSON file that includes the point of interest, or the specific pixel in which we plan to explore."
   ]
  },
  {
   "cell_type": "code",
   "execution_count": null,
   "id": "980a66ad",
   "metadata": {},
   "outputs": [],
   "source": [
    "roi = geopandas.read_file('https://raw.githubusercontent.com/snowex-hackweek/tutorial-data/main/SnowEx-2022/AVIRIS-NG/roi.geojson')"
   ]
  },
  {
   "cell_type": "markdown",
   "id": "6c4948cd",
   "metadata": {},
   "source": [
    "Start a new map"
   ]
  },
  {
   "cell_type": "code",
   "execution_count": null,
   "id": "161a2258",
   "metadata": {},
   "outputs": [],
   "source": [
    "sasp = swamp_angel.explore(\n",
    "    name='Swamp Angel Study Plot',\n",
    "    tiles=\"Stamen Terrain\"\n",
    ")"
   ]
  },
  {
   "cell_type": "markdown",
   "id": "ca600854",
   "metadata": {},
   "source": [
    "Add our point of interest. Note that we need the coordinates in Lat/Lon to add it to our base map. Luckily, we can do that quickly with geopandas `to_crs` method."
   ]
  },
  {
   "cell_type": "markdown",
   "id": "10e955d6",
   "metadata": {},
   "source": [
    "```{seealso}\n",
    "\n",
    "* https://geopandas.org/en/stable/docs/reference/api/geopandas.GeoDataFrame.to_crs.html\n",
    "* https://python-visualization.github.io/folium/modules.html#folium.map.Marker\n",
    "* https://python-visualization.github.io/folium/modules.html#folium.map.Icon\n",
    "```"
   ]
  },
  {
   "cell_type": "code",
   "execution_count": null,
   "id": "3af975e5",
   "metadata": {},
   "outputs": [],
   "source": [
    "lat_lon = roi.to_crs(4326).geometry\n",
    "\n",
    "folium.Marker(\n",
    "    location=[lat_lon.y, lat_lon.x], \n",
    "    icon=folium.Icon(color='orange'),\n",
    "    popup='Point of Interest'\n",
    ").add_to(sasp)\n",
    "\n",
    "sasp"
   ]
  },
  {
   "cell_type": "markdown",
   "id": "3ecc9ca3",
   "metadata": {},
   "source": [
    "### Find the coordinates in pixel space "
   ]
  },
  {
   "cell_type": "code",
   "execution_count": null,
   "id": "770c870b",
   "metadata": {},
   "outputs": [],
   "source": [
    "import rasterio\n",
    "\n",
    "with rasterio.open(SBB_data_file) as sbb_subset:\n",
    "    x, y = sbb_subset.index(roi.geometry.x, roi.geometry.y) # The index methods returns arrays\n",
    "    print(x[0], y[0])"
   ]
  },
  {
   "cell_type": "markdown",
   "id": "1c1ad3cc",
   "metadata": {},
   "source": [
    "### Show the measured reflectance at this pixel "
   ]
  },
  {
   "cell_type": "code",
   "execution_count": null,
   "id": "c6a3330e",
   "metadata": {},
   "outputs": [],
   "source": [
    "#plot spectrum for a given pixel\n",
    "my_pixel = image_data[x[0], y[0]] \n",
    "plt.plot (bands, my_pixel, color='blue')\n",
    "plt.xlabel('Wavelength (nm)')\n",
    "plt.ylabel('Reflectance')\n",
    "plt.show()"
   ]
  },
  {
   "cell_type": "markdown",
   "id": "247793dd",
   "metadata": {},
   "source": [
    "### Align bands between image and reference spectra\n",
    "\n",
    "To do spectral feature fitting, we need the bands in our water and ice absorption spectra to match the bands in our AVIRIS-NG image. Let's use spline interpolation to convert our absorption spectra from 5 nm band centers to AVIRIS-NG band centers."
   ]
  },
  {
   "cell_type": "code",
   "execution_count": null,
   "id": "069f8e78",
   "metadata": {},
   "outputs": [],
   "source": [
    "from scipy.interpolate import CubicSpline\n",
    "\n",
    "# Create CubicSpline functions that use the original absorption spectra wavelengths and values\n",
    "ice_cs = CubicSpline(wvl_nm_fullres, ice_abs_fullres)\n",
    "\n",
    "# Interpolate to AVIRIS-NG band center wavelengths\n",
    "ice_abs_imgres = ice_cs(bands)"
   ]
  },
  {
   "cell_type": "markdown",
   "id": "e744ad37",
   "metadata": {},
   "source": [
    "### Run Spectral Feature Fitting\n",
    "\n",
    "Now that our absorption spectra have the same band center wavelengths as our image, we can move forward with the spectral feature fitting. The next step involves constraining the wavelength range we'll be fitting. This can be a little tricky - a subjective choice about where absorption features begin and end needs to be made. Often, we'll need to test multiple bounding wavelengths and choose a set that works best."
   ]
  },
  {
   "cell_type": "code",
   "execution_count": null,
   "id": "08725617",
   "metadata": {},
   "outputs": [],
   "source": [
    "# Set the absorption feature wavelength bounds \n",
    "lower_bound = 980\n",
    "upper_bound = 1095\n",
    "\n",
    "lower_bound_index = index_for_band(lower_bound)\n",
    "upper_bound_index = index_for_band(upper_bound)"
   ]
  },
  {
   "cell_type": "markdown",
   "id": "701bd9d4",
   "metadata": {},
   "source": [
    "Next, we'll want the wavelengths and bands to correspond to the range between these bounds."
   ]
  },
  {
   "cell_type": "code",
   "execution_count": null,
   "id": "6332b829",
   "metadata": {},
   "outputs": [],
   "source": [
    "# Remember: Numpy's upper bound index is excluded. Hence +1\n",
    "bands_in_feature = bands[lower_bound_index:upper_bound_index + 1]\n",
    "band_index_in_feature = np.arange(lower_bound_index, upper_bound_index + 1)"
   ]
  },
  {
   "cell_type": "markdown",
   "id": "1bb55a23",
   "metadata": {},
   "source": [
    "We can then use a nonnegative least squares approach to perform the spectral feature fitting, which has been noted as one of the most efficient methods ([Thompson et al., 2015](https://doi.org/10.1016/j.rse.2015.02.010)).  \n",
    "\n",
    "To do so, we need to solve for the following values: \n",
    "- $l$: our offset\n",
    "- $m$: slope of the upward-trending line\n",
    "- $n$: slope of the downward-trending line\n",
    "- $u_{ice}$: equivalent thickness of ice (called $d_{ice}$ in our nonlinear solution) \n",
    "\n",
    "Therefore we need to construct our x data array with the relevant vectors:\n",
    "1. a vector of ones (will be used to find $l$)\n",
    "2. a vector of wavelengths (used to find $m$)\n",
    "3. a vector of wavelengths * -1 (used to find $n$)\n",
    "5. a vector of ice abs coefficients (used to find $u_{ice}$)"
   ]
  },
  {
   "cell_type": "markdown",
   "id": "a468b44b",
   "metadata": {},
   "source": [
    "We need our wavelengths and ice absorption coefficients in an array we can use as an input for SFF. The bands will be restricted to the bounds we've already defined. We'll also want our reflectance spectrum in a similarly formatted array."
   ]
  },
  {
   "cell_type": "code",
   "execution_count": null,
   "id": "0edb5cd0",
   "metadata": {},
   "outputs": [],
   "source": [
    "# Import 'nnls' and set up your x and y arrays\n",
    "from scipy.optimize import nnls\n",
    "x_values = np.transpose(\n",
    "    np.array([\n",
    "        np.ones_like(bands_in_feature), \n",
    "        bands_in_feature,\n",
    "        -1 * bands_in_feature,\n",
    "        ice_abs_imgres[band_index_in_feature]\n",
    "    ])\n",
    ")\n",
    "print(x_values.shape)\n",
    "\n",
    "y_values = my_pixel[band_index_in_feature]\n",
    "print(y_values.shape)"
   ]
  },
  {
   "cell_type": "code",
   "execution_count": null,
   "id": "1617ca99",
   "metadata": {},
   "outputs": [],
   "source": [
    "# Solve for a, b, and d_ice using nnls\n",
    "coeff, resid = nnls(x_values, -np.log(y_values))\n",
    "print(coeff)"
   ]
  },
  {
   "cell_type": "code",
   "execution_count": null,
   "id": "fbed59af",
   "metadata": {},
   "outputs": [],
   "source": [
    "# Look at the estimated ice thickness\n",
    "print(\"estimated ice thickness = {}\".format(round(coeff[3], 3)))"
   ]
  },
  {
   "cell_type": "code",
   "execution_count": null,
   "id": "a7c6b557",
   "metadata": {},
   "outputs": [],
   "source": [
    "# Generate your modeled spectral feature \n",
    "nnls_predicted_ice_abs = np.exp(-x_values.dot(coeff[:, np.newaxis]))"
   ]
  },
  {
   "cell_type": "code",
   "execution_count": null,
   "id": "4b1eae21",
   "metadata": {},
   "outputs": [],
   "source": [
    "# Plot both over your measured spectral feature\n",
    "plt.figure()\n",
    "plt.plot(bands_in_feature, my_pixel[band_index_in_feature], color = 'blue')\n",
    "plt.plot(bands_in_feature, nnls_predicted_ice_abs, color = 'crimson', linestyle = '--')\n",
    "plt.legend(['measured ice spectrum', \n",
    "            '\\'nnls\\' modeled ice spectrum'])\n",
    "plt.xlabel('Wavelength (nm)')\n",
    "plt.ylabel('Reflectance')\n",
    "plt.show()"
   ]
  },
  {
   "cell_type": "markdown",
   "id": "e5293549",
   "metadata": {},
   "source": [
    "# Wrapping it up "
   ]
  },
  {
   "cell_type": "markdown",
   "id": "eb11b40e",
   "metadata": {},
   "source": [
    "```{admonition} What we learned\n",
    "\n",
    "* Basic intro to hyperspectral data concepts\n",
    "* First intro working with AVIRIS-NG hyperspectral data and structure \n",
    "* Get overview of many flight lines, subset flight lines, and explore data for individual pixels\n",
    "* Used Python libraries:\n",
    "   * Spectral (Read and explore hyperspectral data)\n",
    "   * GeoPandas (Read and explore geospatail data)\n",
    "   * Numpy (work with arrays)\n",
    "   * Scipy (data science tools)\n",
    "   * Matplotlib (static plots)\n",
    "   * Folium (interactive maps)\n",
    "\n",
    "```"
   ]
  }
 ],
 "metadata": {
  "kernelspec": {
   "display_name": "Python 3",
   "language": "python",
   "name": "python3"
  },
  "language_info": {
   "codemirror_mode": {
    "name": "ipython",
    "version": 3
   },
   "file_extension": ".py",
   "mimetype": "text/x-python",
   "name": "python",
   "nbconvert_exporter": "python",
   "pygments_lexer": "ipython3",
   "version": "3.7.6"
  }
 },
 "nbformat": 4,
 "nbformat_minor": 5
}
