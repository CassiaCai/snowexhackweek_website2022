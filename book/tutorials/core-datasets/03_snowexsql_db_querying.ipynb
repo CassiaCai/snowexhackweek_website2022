{
 "cells": [
  {
   "cell_type": "markdown",
   "id": "5276c910-43d9-4b68-961a-f385b9b748ad",
   "metadata": {},
   "source": [
    "# Practice Querying the SnowEx Database\n",
    "(part 3 of 3)"
   ]
  },
  {
   "cell_type": "markdown",
   "id": "1f2e05b2-ba43-4365-9194-679ea246acb6",
   "metadata": {},
   "source": [
    "Learning Objectives:\n",
    "\n",
    "* First taste of the database!\n",
    "* Code snippets to extract and prep data.\n",
    "* Generate ideas for project pitches."
   ]
  },
  {
   "cell_type": "markdown",
   "id": "ed3a30b8-2b65-4511-b6ab-f27263376d29",
   "metadata": {},
   "source": [
    "## SnowEx Database Basics\n",
    "### 1. How are the data contained?\n",
    "* point data\n",
    "* layer data\n",
    "* image data\n",
    "* site data\n",
    "\n",
    "[insert image, 4 panels showing 4 different data types]"
   ]
  },
  {
   "cell_type": "markdown",
   "id": "36d02ca8-a2d6-4afb-a09b-ccfe73b3220c",
   "metadata": {},
   "source": [
    "### 2. Code snippets to get going with the database"
   ]
  },
  {
   "cell_type": "code",
   "execution_count": 6,
   "id": "7a2eaf87-8c62-4a20-93c3-13ada37c3486",
   "metadata": {},
   "outputs": [],
   "source": [
    "# standard imports\n",
    "import numpy as np\n",
    "import datetime\n",
    "import matplotlib.pyplot as plt \n",
    "\n",
    "# database imports\n",
    "from snowexsql.db import get_db\n",
    "from snowexsql.data import PointData, LayerData, ImageData, SiteData\n",
    "from snowexsql.conversions import query_to_geopandas"
   ]
  },
  {
   "cell_type": "markdown",
   "id": "cf18e03c-2ee7-4798-b805-83761b20f66b",
   "metadata": {},
   "source": [
    "**POINTER -->** Notice where I import the four primary database tables. Can anyone call out what code line does this from the code block above?"
   ]
  },
  {
   "cell_type": "code",
   "execution_count": 8,
   "id": "119b861a-fed4-48c0-b463-193d52787afb",
   "metadata": {},
   "outputs": [
    {
     "name": "stdout",
     "output_type": "stream",
     "text": [
      "snowex database successfully loaded!\n"
     ]
    }
   ],
   "source": [
    "# load the database\n",
    "db_name = 'snow:hackweek@db.snowexdata.org/snowex'\n",
    "engine, session = get_db(db_name)\n",
    "\n",
    "print('snowex database successfully loaded!')"
   ]
  },
  {
   "cell_type": "code",
   "execution_count": 15,
   "id": "2b177457-dd82-4449-b4ee-c0e62a2d9c53",
   "metadata": {},
   "outputs": [],
   "source": [
    "# ideas:\n",
    "#     - data overlap\n",
    "#     - available columns in the images data (airborne)"
   ]
  },
  {
   "cell_type": "markdown",
   "id": "73bc94cb-7789-4a21-bb08-fedc10c8cabf",
   "metadata": {},
   "source": [
    "### Grand Mesa IOP (2020)"
   ]
  },
  {
   "cell_type": "code",
   "execution_count": null,
   "id": "2163595b-12a2-4ae9-a36c-ce544d9857ae",
   "metadata": {},
   "outputs": [],
   "source": []
  },
  {
   "cell_type": "markdown",
   "id": "8f32a5cf-bcda-4305-ac07-25f3edf0ba7b",
   "metadata": {},
   "source": [
    "## Time Series (2020)"
   ]
  },
  {
   "cell_type": "markdown",
   "id": "ba5fabcc-60b3-4c1a-b09e-2b32a5af667f",
   "metadata": {},
   "source": [
    "## Recap"
   ]
  },
  {
   "cell_type": "markdown",
   "id": "e8b39a3a-9eb4-44f3-93a2-0a71b208fbbb",
   "metadata": {},
   "source": [
    "## References "
   ]
  },
  {
   "cell_type": "code",
   "execution_count": null,
   "id": "de928188-3570-4843-b372-045985883fc4",
   "metadata": {},
   "outputs": [],
   "source": []
  }
 ],
 "metadata": {
  "kernelspec": {
   "display_name": "Python 3 (ipykernel)",
   "language": "python",
   "name": "python3"
  },
  "language_info": {
   "codemirror_mode": {
    "name": "ipython",
    "version": 3
   },
   "file_extension": ".py",
   "mimetype": "text/x-python",
   "name": "python",
   "nbconvert_exporter": "python",
   "pygments_lexer": "ipython3",
   "version": "3.10.5"
  }
 },
 "nbformat": 4,
 "nbformat_minor": 5
}
