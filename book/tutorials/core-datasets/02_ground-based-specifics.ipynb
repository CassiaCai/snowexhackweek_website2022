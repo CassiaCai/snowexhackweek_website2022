{
 "cells": [
  {
   "cell_type": "markdown",
   "id": "53c656df-dc45-4239-92c0-e07e69cfccaa",
   "metadata": {},
   "source": [
    "# SnowEx Ground-Based Measurements and Data Packages"
   ]
  },
  {
   "cell_type": "markdown",
   "id": "67c73199-dc97-425a-9c7c-ca61d97d3bcc",
   "metadata": {},
   "source": [
    "Outline:\n",
    "* Central measurements to SnowEx campaigns? (standardized protocol)\n",
    "* Campaign objectives by year\n",
    "* Sampling designs and naming conventions for each campaign\n"
   ]
  },
  {
   "cell_type": "markdown",
   "id": "f96a5afb-c1b8-40ae-997f-15e68120ac97",
   "metadata": {},
   "source": []
  },
  {
   "cell_type": "markdown",
   "id": "f91e9b11-cb8e-4e95-a299-42664e8523d2",
   "metadata": {},
   "source": [
    "## Main body here "
   ]
  },
  {
   "cell_type": "code",
   "execution_count": null,
   "id": "4730576c-326a-459f-a9d8-3b17bd779c65",
   "metadata": {},
   "outputs": [],
   "source": []
  },
  {
   "cell_type": "code",
   "execution_count": null,
   "id": "6a183ea8-8abe-443a-b937-2d6871daa78f",
   "metadata": {},
   "outputs": [],
   "source": []
  },
  {
   "cell_type": "code",
   "execution_count": null,
   "id": "8c071b3f-a517-45fd-b1fb-e71f44bd85a1",
   "metadata": {},
   "outputs": [],
   "source": []
  },
  {
   "cell_type": "markdown",
   "id": "d1b78de7-9973-4240-a730-0ee8de6d7523",
   "metadata": {},
   "source": [
    "## Share Your Thoughts\n",
    "\n",
    "1. Navigate to this **Google Slides** page\n",
    "2. Add your thought on data applications now that you know what measurements we have and roughly where they occur"
   ]
  },
  {
   "cell_type": "markdown",
   "id": "67a1c7cf-89e7-4615-98eb-7581c6f4b1e2",
   "metadata": {},
   "source": [
    "## Recap"
   ]
  },
  {
   "cell_type": "markdown",
   "id": "0efd0c03-e5ff-439f-af74-1604b6028008",
   "metadata": {},
   "source": [
    "## References"
   ]
  },
  {
   "cell_type": "code",
   "execution_count": null,
   "id": "835f5610-7b92-4872-88de-94f984d5d460",
   "metadata": {},
   "outputs": [],
   "source": []
  }
 ],
 "metadata": {
  "kernelspec": {
   "display_name": "Python 3 (ipykernel)",
   "language": "python",
   "name": "python3"
  },
  "language_info": {
   "codemirror_mode": {
    "name": "ipython",
    "version": 3
   },
   "file_extension": ".py",
   "mimetype": "text/x-python",
   "name": "python",
   "nbconvert_exporter": "python",
   "pygments_lexer": "ipython3",
   "version": "3.10.5"
  }
 },
 "nbformat": 4,
 "nbformat_minor": 5
}
