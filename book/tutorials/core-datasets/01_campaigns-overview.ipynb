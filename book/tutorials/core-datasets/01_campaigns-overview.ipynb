{
 "cells": [
  {
   "cell_type": "markdown",
   "id": "96eeebf3-7c10-40a3-96ae-9a456d26fc3c",
   "metadata": {},
   "source": [
    "![banner](content/banner.png)"
   ]
  },
  {
   "cell_type": "markdown",
   "id": "625d1e46-0401-4aa7-8075-8491b1325a29",
   "metadata": {},
   "source": [
    "# SnowEx Field Campaigns Overview\n",
    "brought to you by: \n",
    "* **Megan Mason** (NASA Goddard / SSAI) megan.a.mason@nasa.gov\n",
    "* **Carrie Vuyovich** (NASA Goddard) carrie.m.vuyovich@nasa.gov\n",
    "* **HP Marshall** (Boise State) hpmarshall@boisestate.edu"
   ]
  },
  {
   "cell_type": "markdown",
   "id": "0c9292ba-53e4-4a64-ad11-a639f9b2f03b",
   "metadata": {},
   "source": [
    "[insert image of landscape, snow pit, ground sampling]"
   ]
  },
  {
   "cell_type": "markdown",
   "id": "dea17f58-8f1c-4f4b-a448-fd99209eb011",
   "metadata": {},
   "source": [
    "Learning Objectives:\n",
    "* Visual overview of the NASA SnowEx field campaigns\n",
    "* Description of ground-based validation/calibration data sets \n",
    "* Provide some examples of accessing ground-based data in the snowexsql database"
   ]
  },
  {
   "cell_type": "markdown",
   "id": "94d48daa-2708-4fce-9cd2-752d752e453e",
   "metadata": {},
   "source": [
    "Bonuses:\n",
    "* [link to Hackweek 2021 tutorial]\n",
    "* High-level resources from NSIDC "
   ]
  },
  {
   "cell_type": "markdown",
   "id": "f8dfe136-f5b9-4c30-b272-7f222205f330",
   "metadata": {
    "tags": []
   },
   "source": [
    "## Where has SnowEx Been?\n",
    "Campaign efforts are focused on various snow climates in the Western United States. SnowEx partnerships and expertise are spread across the US and international.\n",
    " \n",
    "[insert image of campaign-extent-map-with-table]"
   ]
  },
  {
   "cell_type": "markdown",
   "id": "4961f594-ed9a-4394-8683-19c7f3ee27be",
   "metadata": {},
   "source": [
    "<img src='content/where-has-snowex-been.jpg'>"
   ]
  },
  {
   "cell_type": "code",
   "execution_count": null,
   "id": "6b7ac18f-5444-4c6f-9676-6241c53feddc",
   "metadata": {},
   "outputs": [],
   "source": []
  },
  {
   "cell_type": "code",
   "execution_count": null,
   "id": "79ed6952-084f-4bda-b18e-b501b4832a87",
   "metadata": {},
   "outputs": [],
   "source": [
    "\n"
   ]
  },
  {
   "cell_type": "markdown",
   "id": "51b12aa9-6cc1-43d0-99a8-820ae721b5d7",
   "metadata": {},
   "source": [
    "## Focus on Different Snow Climates\n",
    "[statement here about collection data in a variety of climates]\n",
    " \n",
    "[insert image of snow-classification-with-ground-obs]"
   ]
  },
  {
   "cell_type": "markdown",
   "id": "4129c1af-dc53-4597-9015-ce2affc6b32a",
   "metadata": {},
   "source": [
    "## Temporal Extent\n",
    "[mention the history of campaigns, objectives]\n",
    " \n",
    "[insert figure of temporal-extent]\n",
    "[insert figure of 3 snow pits, all very different!]"
   ]
  },
  {
   "cell_type": "markdown",
   "id": "08580264-ed3a-4343-9b40-58c3789b1e4e",
   "metadata": {
    "jp-MarkdownHeadingCollapsed": true,
    "tags": []
   },
   "source": [
    "## Recap\n"
   ]
  },
  {
   "cell_type": "markdown",
   "id": "ac92ba71-2ac8-4435-b668-e40050ac9502",
   "metadata": {},
   "source": [
    "## References "
   ]
  },
  {
   "cell_type": "code",
   "execution_count": null,
   "id": "da9bfb5b-a818-4012-8f3c-dc4b2bca40b2",
   "metadata": {},
   "outputs": [],
   "source": []
  }
 ],
 "metadata": {
  "kernelspec": {
   "display_name": "Python 3 (ipykernel)",
   "language": "python",
   "name": "python3"
  },
  "language_info": {
   "codemirror_mode": {
    "name": "ipython",
    "version": 3
   },
   "file_extension": ".py",
   "mimetype": "text/x-python",
   "name": "python",
   "nbconvert_exporter": "python",
   "pygments_lexer": "ipython3",
   "version": "3.10.5"
  }
 },
 "nbformat": 4,
 "nbformat_minor": 5
}
