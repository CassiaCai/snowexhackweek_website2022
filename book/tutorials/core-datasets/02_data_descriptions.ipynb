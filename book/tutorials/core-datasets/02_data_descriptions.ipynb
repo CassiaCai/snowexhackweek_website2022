{
 "cells": [
  {
   "cell_type": "markdown",
   "id": "53c656df-dc45-4239-92c0-e07e69cfccaa",
   "metadata": {},
   "source": [
    "# SnowEx Ground-Based Measurements and Data Packages"
   ]
  },
  {
   "cell_type": "markdown",
   "id": "67c73199-dc97-425a-9c7c-ca61d97d3bcc",
   "metadata": {},
   "source": [
    "Outline:\n",
    "* Central measurements to SnowEx campaigns? (standardized protocol)\n",
    "* Campaign objectives by year\n",
    "* Sampling designs and naming conventions for each campaign"
   ]
  },
  {
   "cell_type": "markdown",
   "id": "435f791b-bc23-4bed-a427-fb024a258cb6",
   "metadata": {},
   "source": [
    "## Set Up Computing Environment"
   ]
  },
  {
   "cell_type": "code",
   "execution_count": null,
   "id": "beef5eee-16d3-470a-8ce7-3d829c02e66a",
   "metadata": {},
   "outputs": [],
   "source": [
    "# import python packages\n",
    "import ipyleaflet\n",
    "from ipyleaflet import Map, GeoData, Rectangle, basemaps, LayersControl, basemap_to_tiles, TileLayer, SplitMapControl, Polygon\n",
    "\n",
    "import ipywidgets\n",
    "import datetime\n",
    "import re\n",
    "import geopandas as gpd"
   ]
  },
  {
   "cell_type": "markdown",
   "id": "f96a5afb-c1b8-40ae-997f-15e68120ac97",
   "metadata": {},
   "source": [
    "## Explore the Spatial Extent of Field Campaign Data"
   ]
  },
  {
   "cell_type": "code",
   "execution_count": null,
   "id": "2c6af3e7-3f3b-43f6-8104-963c6face77a",
   "metadata": {},
   "outputs": [],
   "source": [
    "bbox = [-125, 49, -102, 31]\n",
    "west, north, east, south = bbox\n",
    "bbox_ctr = [0.5*(north+south), 0.5*(west+east)]"
   ]
  },
  {
   "cell_type": "code",
   "execution_count": null,
   "id": "6bfad260-196e-4595-86cb-66181534160b",
   "metadata": {},
   "outputs": [],
   "source": [
    "m = Map(basemap=basemaps.CartoDB.Positron, center=bbox_ctr, zoom=4)\n",
    "rectangle = Rectangle(bounds=((south, west), (north, east))) #SW and NE corners of the rectangle (lat, lon)\n",
    "m.add_layer(rectangle)\n",
    "m\n",
    "\n",
    "# more info on available basemaps here: https://ipyleaflet.readthedocs.io/en/latest/map_and_basemaps/basemaps.html"
   ]
  },
  {
   "cell_type": "markdown",
   "id": "aa1a7b23-a821-48bd-a33c-8101e610895b",
   "metadata": {},
   "source": [
    "## Query the Database to add Spatial Data to Our Map"
   ]
  },
  {
   "cell_type": "code",
   "execution_count": null,
   "id": "c34f56b8-b24b-4d1c-a96e-905800035d64",
   "metadata": {},
   "outputs": [],
   "source": [
    "# database imports\n",
    "from snowexsql.db import get_db\n",
    "from snowexsql.data import PointData, LayerData, ImageData, SiteData\n",
    "from snowexsql.conversions import query_to_geopandas, query_to_pandas"
   ]
  },
  {
   "cell_type": "code",
   "execution_count": null,
   "id": "fcfe9382-d234-4d87-aa20-56e390984e52",
   "metadata": {},
   "outputs": [],
   "source": [
    "# load the database\n",
    "db_name = 'snow:hackweek@db.snowexdata.org/snowex'\n",
    "engine, session = get_db(db_name)"
   ]
  },
  {
   "cell_type": "markdown",
   "id": "ad45e72d-5960-4956-b54d-edec7a1491f3",
   "metadata": {},
   "source": [
    "## Let's find out where we have liquid water content (LWC) data \n",
    "\n",
    "**Pointer -->**  LWC data is in the LayerData table, because data at a single location were measured as a profile on the pit wall face (i.e has a vertical dimension) "
   ]
  },
  {
   "cell_type": "code",
   "execution_count": null,
   "id": "43f393a5-e688-4c43-8c4b-167e3d03e860",
   "metadata": {
    "tags": []
   },
   "outputs": [],
   "source": [
    "# query the LayerData for all LWC values\n",
    "# qry = session.query(LayerData).filter(LayerData.type == 'lwc_vol')\n",
    "\n",
    "# query the geometry property of PointData\n",
    "# qry = session.query(LayerData.geom).distinct()\n",
    "\n",
    "# query the LayerData for all LWC values\n",
    "qry = session.query(LayerData.longitude, LayerData.latitude).filter(LayerData.type == 'lwc_vol').distinct() # \n",
    "\n",
    "# # query the geometry property of PointData\n",
    "# qry = query(LayerData.geom).distinct()\n",
    "\n",
    "# # limit the number of entries\n",
    "# qry = qry.limit(2000)\n",
    "\n",
    "# convert query to geopandas df\n",
    "df = query_to_pandas(qry, engine)\n",
    "\n",
    "df = gpd.GeoDataFrame(df, geometry=gpd.points_from_xy(df.longitude, df.latitude))\n",
    "print(type(df))\n",
    "\n",
    "# # convert query to geopandas df\n",
    "# df = query_to_geopandas(qry, engine)\n",
    "\n",
    "print(df.head())\n",
    "\n",
    "# how many did we retrieve?\n",
    "print(f'{len(df.index)} records returned!')\n",
    "\n",
    "session.close()"
   ]
  },
  {
   "cell_type": "code",
   "execution_count": null,
   "id": "4d74acb9-5acf-4fe4-b52b-ca4740b50e9f",
   "metadata": {},
   "outputs": [],
   "source": [
    "type(df)"
   ]
  },
  {
   "cell_type": "markdown",
   "id": "89796052-188f-4f54-984f-dc585dfc1db6",
   "metadata": {},
   "source": [
    "## Let's add these points to our map!"
   ]
  },
  {
   "cell_type": "code",
   "execution_count": null,
   "id": "7a073b11-1e05-4dc3-b051-935798c67140",
   "metadata": {},
   "outputs": [],
   "source": [
    "m = Map(basemap=basemaps.CartoDB.Positron, center=bbox_ctr, zoom=6)\n",
    "\n",
    "# geo_data = GeoData(geo_dataframe = df)\n",
    "\n",
    "geo_data = GeoData(geo_dataframe = df,\n",
    "    style={'color': 'black', 'radius':8, 'fillColor': '#3366cc', 'opacity':0.5, 'weight':1.9, 'dashArray':'2', 'fillOpacity':0.6},\n",
    "    hover_style={'fillColor': 'red' , 'fillOpacity': 0.2},\n",
    "    point_style={'radius': 5, 'color': 'red', 'fillOpacity': 0.8, 'fillColor': 'blue', 'weight': 3},\n",
    "    name = 'lwc obs.')\n",
    "\n",
    "m.add_layer(geo_data) \n",
    "m.add_control(LayersControl())\n",
    "m"
   ]
  },
  {
   "cell_type": "markdown",
   "id": "f91e9b11-cb8e-4e95-a299-42664e8523d2",
   "metadata": {},
   "source": [
    "## Main body here "
   ]
  },
  {
   "cell_type": "markdown",
   "id": "d1b78de7-9973-4240-a730-0ee8de6d7523",
   "metadata": {},
   "source": [
    "## Share Your Thoughts\n",
    "\n",
    "1. Navigate to this **Google Slides** page\n",
    "2. Add your thought on data applications now that you know what measurements we have and roughly where they occur"
   ]
  },
  {
   "cell_type": "markdown",
   "id": "67a1c7cf-89e7-4615-98eb-7581c6f4b1e2",
   "metadata": {},
   "source": [
    "## Recap"
   ]
  },
  {
   "cell_type": "markdown",
   "id": "0efd0c03-e5ff-439f-af74-1604b6028008",
   "metadata": {},
   "source": [
    "## References"
   ]
  }
 ],
 "metadata": {
  "kernelspec": {
   "display_name": "Python 3 (ipykernel)",
   "language": "python",
   "name": "python3"
  },
  "language_info": {
   "codemirror_mode": {
    "name": "ipython",
    "version": 3
   },
   "file_extension": ".py",
   "mimetype": "text/x-python",
   "name": "python",
   "nbconvert_exporter": "python",
   "pygments_lexer": "ipython3",
   "version": "3.10.5"
  }
 },
 "nbformat": 4,
 "nbformat_minor": 5
}
